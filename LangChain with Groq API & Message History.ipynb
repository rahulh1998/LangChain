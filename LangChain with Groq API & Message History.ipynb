{
 "cells": [
  {
   "cell_type": "code",
   "execution_count": 1,
   "id": "88a58608",
   "metadata": {},
   "outputs": [],
   "source": [
    "import os\n",
    "from dotenv import load_dotenv\n",
    "load_dotenv()\n",
    "\n",
    "import warnings\n",
    "warnings.filterwarnings(\"ignore\")\n",
    "\n",
    "# Langsmith Tracing\n",
    "os.environ['LANGCHAIN_TRACING_V2'] = 'true'\n",
    "os.environ['OPENAI_API_KEY'] = os.getenv('OPENAI_API_KEY')\n",
    "os.environ['LANGCHAIN_PROJECT'] = os.getenv('LANGCHAIN_PROJECT')\n",
    "os.environ['GROQ_API_KEY'] = os.getenv('GROQ_API_KEY')"
   ]
  },
  {
   "cell_type": "code",
   "execution_count": 4,
   "id": "38df55a3",
   "metadata": {},
   "outputs": [
    {
     "data": {
      "text/plain": [
       "ChatGroq(client=<groq.resources.chat.completions.Completions object at 0x000001997D49E8D0>, async_client=<groq.resources.chat.completions.AsyncCompletions object at 0x000001997D52A870>, model_name='groq/compound-mini', model_kwargs={}, groq_api_key=SecretStr('**********'))"
      ]
     },
     "execution_count": 4,
     "metadata": {},
     "output_type": "execute_result"
    }
   ],
   "source": [
    "from langchain_groq import ChatGroq\n",
    "from pprint import pprint\n",
    "\n",
    "llm = ChatGroq(model='groq/compound-mini')\n",
    "llm"
   ]
  },
  {
   "cell_type": "code",
   "execution_count": 5,
   "id": "2c3d5d05",
   "metadata": {},
   "outputs": [
    {
     "name": "stdout",
     "output_type": "stream",
     "text": [
      "Here are the rules of F1 in 10 lines:\n",
      "\n",
      "1. Formula 1 (F1) is a single-seater racing championship with 20 cars and 10 teams.\n",
      "2. Each team has 2 drivers competing in Grands Prix around the world.\n",
      "3. Cars are designed and built by teams, with engines supplied by 4 manufacturers.\n",
      "4. Qualifying sessions determine the starting grid for each Grand Prix.\n",
      "5. The objective is to complete a set number of laps in the shortest time possible.\n",
      "6. Drivers can make pit stops to change tires and refuel (not always necessary).\n",
      "7. Overtaking is allowed, but drivers must stay on track and avoid contact.\n",
      "8. Drivers are penalized for infractions like speeding in the pit lane or causing collisions.\n",
      "9. Points are awarded to the top 10 finishers: 25, 18, 15, 12, 10, 8, 6, 4, 2, 1.\n",
      "10. The driver and team with the most points at the end of the season are crowned World Champions.\n"
     ]
    }
   ],
   "source": [
    "from  langchain_core.output_parsers import StrOutputParser \n",
    "res = llm.invoke('Can you explain me about rules of f1 in 10 lines')\n",
    "parser = StrOutputParser()\n",
    "for line in parser.invoke(res).split(\"\\n\"):\n",
    "    print(line)"
   ]
  },
  {
   "cell_type": "markdown",
   "id": "4e420224",
   "metadata": {},
   "source": [
    "### HumanMessages & System Messages"
   ]
  },
  {
   "cell_type": "code",
   "execution_count": 6,
   "id": "a7ed5bc6",
   "metadata": {},
   "outputs": [
    {
     "data": {
      "text/plain": [
       "\"You look beautiful tonight translates to:\\n\\nTu as l'air magnifique ce soir!\\n\\nor, in a more formal tone:\\n\\nVous êtes magnifique ce soir!\""
      ]
     },
     "execution_count": 6,
     "metadata": {},
     "output_type": "execute_result"
    }
   ],
   "source": [
    "from langchain_core.messages import HumanMessage, SystemMessage\n",
    "\n",
    "messages = [\n",
    "                SystemMessage(content=\"Translate the user message to French\"),\n",
    "                HumanMessage(content=\"You look beautiful tonight!\")\n",
    "]\n",
    "\n",
    "response = llm.invoke(messages)\n",
    "response.content"
   ]
  },
  {
   "cell_type": "code",
   "execution_count": 7,
   "id": "aab0b550",
   "metadata": {},
   "outputs": [
    {
     "data": {
      "text/plain": [
       "\"You look beautiful tonight translates to:\\n\\nTu as l'air magnifique ce soir!\\n\\nor, in a more formal tone:\\n\\nVous êtes magnifique ce soir!\""
      ]
     },
     "execution_count": 7,
     "metadata": {},
     "output_type": "execute_result"
    }
   ],
   "source": [
    "from langchain_core.output_parsers import StrOutputParser\n",
    "\n",
    "str_parser = StrOutputParser()\n",
    "str_parser.invoke(response)"
   ]
  },
  {
   "cell_type": "code",
   "execution_count": 8,
   "id": "ebdd9412",
   "metadata": {},
   "outputs": [
    {
     "data": {
      "text/plain": [
       "'Tu es belle ce soir!'"
      ]
     },
     "execution_count": 8,
     "metadata": {},
     "output_type": "execute_result"
    }
   ],
   "source": [
    "# Using LCEL For Chaining\n",
    "\n",
    "chain1 = llm|str_parser\n",
    "chain1.invoke(messages)"
   ]
  },
  {
   "cell_type": "code",
   "execution_count": 9,
   "id": "124f9ca9",
   "metadata": {},
   "outputs": [
    {
     "data": {
      "text/plain": [
       "ChatPromptValue(messages=[SystemMessage(content='Translate the following into French', additional_kwargs={}, response_metadata={}), HumanMessage(content='Rahul is a really amazing person', additional_kwargs={}, response_metadata={})])"
      ]
     },
     "execution_count": 9,
     "metadata": {},
     "output_type": "execute_result"
    }
   ],
   "source": [
    "from langchain_core.prompts import ChatPromptTemplate\n",
    "\n",
    "gen_prompt  = \"Translate the following into {language}\"\n",
    "prompt = ChatPromptTemplate.from_messages([\n",
    "                ('system',gen_prompt),\n",
    "                (\"user\", \"{text}\")\n",
    "])\n",
    "\n",
    "prompt.invoke({\"language\":\"French\",\"text\":\"Rahul is a really amazing person\"})"
   ]
  },
  {
   "cell_type": "code",
   "execution_count": 10,
   "id": "c1a47678",
   "metadata": {},
   "outputs": [
    {
     "data": {
      "text/plain": [
       "'Rahul est une personne vraiment incroyable.'"
      ]
     },
     "execution_count": 10,
     "metadata": {},
     "output_type": "execute_result"
    }
   ],
   "source": [
    "chain2  = prompt|llm|str_parser\n",
    "chain2.invoke({\"language\":\"French\",\"text\":\"Rahul is a really amazing person\"})"
   ]
  },
  {
   "cell_type": "code",
   "execution_count": 11,
   "id": "38fa0712",
   "metadata": {},
   "outputs": [
    {
     "data": {
      "text/plain": [
       "AIMessage(content=\"Your name is Rahul, and you mentioned you're a great AI Engineer!\", additional_kwargs={}, response_metadata={'token_usage': {'completion_tokens': 32, 'prompt_tokens': 439, 'total_tokens': 471, 'completion_time': 0.058586, 'prompt_time': 0.069088, 'queue_time': 0.100453, 'total_time': 0.127674}, 'model_name': 'groq/compound-mini', 'system_fingerprint': None, 'service_tier': 'on_demand', 'finish_reason': 'stop', 'logprobs': None}, id='run--7f891b6b-d3b1-4197-a997-f54e69723a6f-0', usage_metadata={'input_tokens': 439, 'output_tokens': 32, 'total_tokens': 471})"
      ]
     },
     "execution_count": 11,
     "metadata": {},
     "output_type": "execute_result"
    }
   ],
   "source": [
    "# Simple Demonstration of how the History is stored \n",
    "from langchain_core.messages import HumanMessage, AIMessage, SystemMessage\n",
    "\n",
    "llm.invoke([\n",
    "    HumanMessage(\"Hi Im Rahul, Im a great AI Engineer\"),\n",
    "    AIMessage(\"Hello Rahul! Nice to meet you! It's great to hear that you're an AI engineer. What kind of AI projects have you been working on lately\"),\n",
    "    HumanMessage(\"Hey whats my name and what do I Do?\")\n",
    "])"
   ]
  },
  {
   "cell_type": "markdown",
   "id": "d6a45383",
   "metadata": {},
   "source": [
    "### Chat Message History"
   ]
  },
  {
   "cell_type": "code",
   "execution_count": null,
   "id": "80b3b7f7",
   "metadata": {},
   "outputs": [
    {
     "data": {
      "text/plain": [
       "\"Hello Rahul! It's nice to meet you. Is there something I can help you with or would you like to chat?\""
      ]
     },
     "execution_count": 15,
     "metadata": {},
     "output_type": "execute_result"
    }
   ],
   "source": [
    "# Base code for chat history\n",
    "from langchain_community.chat_message_histories import ChatMessageHistory\n",
    "from langchain_core.chat_history import BaseChatMessageHistory\n",
    "from langchain_core.runnables.history import RunnableWithMessageHistory\n",
    "from langchain_core.messages import HumanMessage\n",
    "from langchain_core.output_parsers import StrOutputParser\n",
    "\n",
    "store = {}\n",
    "\n",
    "def get_session_history(session_id :str)->BaseChatMessageHistory: # This is the base message history\n",
    "    if session_id not in store:\n",
    "        store[session_id] = ChatMessageHistory() # This is the active session history\n",
    "    return store[session_id]\n",
    "\n",
    "with_chat_message_history = RunnableWithMessageHistory(llm,get_session_history)\n",
    "\n",
    "config = {\"configurable\":{\"session_id\":\"chat1\"}}\n",
    "\n",
    "response = with_chat_message_history.invoke([HumanMessage(content=\"Hi My Name is Rahul\")],\n",
    "                                 config=config)\n",
    "\n",
    "op_parser = StrOutputParser()\n",
    "op_parser.invoke(response)"
   ]
  },
  {
   "cell_type": "markdown",
   "id": "c18be28a",
   "metadata": {},
   "source": [
    "### Using  ChatPromptTemplate"
   ]
  },
  {
   "cell_type": "code",
   "execution_count": null,
   "id": "2c9ad937",
   "metadata": {},
   "outputs": [
    {
     "data": {
      "text/plain": [
       "\"Hello Rahul! It's nice to meet you. Is there something I can help you with or would you like to chat?\""
      ]
     },
     "execution_count": 16,
     "metadata": {},
     "output_type": "execute_result"
    }
   ],
   "source": [
    "from langchain_core.prompts import ChatPromptTemplate, MessagesPlaceholder\n",
    "\n",
    "chat_prompt = ChatPromptTemplate.from_messages([\n",
    "    (\"system\",\"Answer the question in simple understandable terms\"),\n",
    "    MessagesPlaceholder(variable_name=\"text\")\n",
    "])\n",
    "\n",
    "chain = chat_prompt|llm|op_parser\n",
    "\n",
    "chain.invoke([HumanMessage(content=\"Hi My Name is Rahul\")])"
   ]
  },
  {
   "cell_type": "code",
   "execution_count": 17,
   "id": "e4725ba2",
   "metadata": {},
   "outputs": [
    {
     "data": {
      "text/plain": [
       "'Rahul is a popular name in India and other parts of South Asia. The name Rahul has multiple meanings depending on the language and culture. Here are a few possible interpretations:\\n\\n* In Sanskrit, \"Rahul\" means \"efficient\" or \"effective\".\\n* In Buddhism, Rahul is considered a name that means \"conqueror of all faults\".\\n\\nOverall, the name Rahul is often associated with positive qualities like strength, efficiency, and wisdom. What do you think about your name, Rahul?'"
      ]
     },
     "execution_count": 17,
     "metadata": {},
     "output_type": "execute_result"
    }
   ],
   "source": [
    "with_chat_message_history = RunnableWithMessageHistory(chain, get_session_history)\n",
    "\n",
    "with_chat_message_history.invoke([HumanMessage(\"What is the meaning of my name\")],\n",
    "                                 config=config)"
   ]
  },
  {
   "cell_type": "code",
   "execution_count": 18,
   "id": "6619260d",
   "metadata": {},
   "outputs": [
    {
     "data": {
      "text/plain": [
       "'That\\'s a great addition! In Hindu mythology, Rahul is indeed also considered to mean \"Son of God\" or \"Efficacious\" or even \"Traveler\". \\n\\nIn Buddhist tradition, Rahul is the name of the son of Lord Buddha, which further solidifies the connection to the divine.\\n\\nSo, it seems your name, Rahul, carries a rich history and profound meaning. How do you feel about being a \"Son of God\"?'"
      ]
     },
     "execution_count": 18,
     "metadata": {},
     "output_type": "execute_result"
    }
   ],
   "source": [
    "with_chat_message_history.invoke([HumanMessage(\"I also found that meaning of my name is Son of Gods\")],\n",
    "                                 config=config)"
   ]
  },
  {
   "cell_type": "markdown",
   "id": "7f110330",
   "metadata": {},
   "source": [
    "### Using Multiple inputs in Prompt"
   ]
  },
  {
   "cell_type": "code",
   "execution_count": 24,
   "id": "9dcdf0b6",
   "metadata": {},
   "outputs": [
    {
     "name": "stdout",
     "output_type": "stream",
     "text": [
      "Nice to meet you, Rahul!\n",
      "\n",
      "To excel in AI, focus on developing these key skills:\n",
      "\n",
      "**Top 5 Technical Skills:**\n",
      "\n",
      "1. **Python Programming**: Master Python and its popular libraries like NumPy, pandas, and scikit-learn.\n",
      "2. **Machine Learning**: Study supervised and unsupervised learning, neural networks, and deep learning.\n",
      "3. **Mathematics**: Linear Algebra, Calculus, Probability, and Statistics are essential math concepts for AI.\n",
      "4. **Deep Learning Frameworks**: Familiarize yourself with TensorFlow, PyTorch, or Keras.\n",
      "5. **Data Preprocessing**: Understand data cleaning, feature engineering, and data visualization.\n",
      "\n",
      "**Top 3 Soft Skills:**\n",
      "\n",
      "1. **Communication**: Develop clear and concise communication skills to explain complex AI concepts.\n",
      "2. **Problem-Solving**: Improve your critical thinking and problem-solving skills.\n",
      "3. **Collaboration**: Learn to work effectively with cross-functional teams.\n",
      "\n",
      "**Additional Tips:**\n",
      "\n",
      "* Stay updated with the latest AI research and trends.\n",
      "* Practice with Kaggle competitions and projects.\n",
      "* Join online communities like Reddit's r/MachineLearning and r/AI.\n",
      "\n",
      "Focus on building a strong foundation in these skills, and you'll be well on your way to excelling in AI, Rahul!\n"
     ]
    }
   ],
   "source": [
    "prompt2 = ChatPromptTemplate.from_messages([\n",
    "    (\"system\",\"Perform the following {task} on the information\"),\n",
    "    MessagesPlaceholder(variable_name=\"messages\")\n",
    "])\n",
    "\n",
    "config2 = {\"configurable\":{\"session_id\":\"chat2\"}}\n",
    "\n",
    "chain2 = prompt2|llm|op_parser\n",
    "\n",
    "chat_with_history_2 = RunnableWithMessageHistory(chain2, get_session_history, config=config2, input_messages_key=\"messages\")\n",
    "\n",
    "res = chat_with_history_2.invoke({\"messages\":[HumanMessage(\"Hi My name is Rahul. Im learning AI. What skills do I need to excel in my field\")],\n",
    "                            \"task\":\"generate\"}, config=config2)\n",
    "for i in res.split(\"\\n\"):\n",
    "    print(i)"
   ]
  },
  {
   "cell_type": "code",
   "execution_count": 25,
   "id": "5c331620",
   "metadata": {},
   "outputs": [
    {
     "data": {
      "text/plain": [
       "\"To excel in AI, focus on developing a combination of technical and soft skills. Here are the key ones:\\n\\n**Technical Skills:**\\n\\n1. **Programming**: Python, Java, or C++.\\n2. **Machine Learning**: Supervised and unsupervised learning, neural networks, deep learning.\\n3. **Mathematics**: Linear Algebra, Calculus, Probability, Statistics.\\n4. **Data Preprocessing**: Data cleaning, feature engineering, data visualization.\\n5. **Deep Learning Frameworks**: TensorFlow, PyTorch, Keras.\\n\\n**Soft Skills:**\\n\\n1. **Communication**: Clear and concise communication.\\n2. **Problem-Solving**: Critical thinking and problem-solving.\\n3. **Collaboration**: Effective teamwork.\\n\\n**Additional Skills (nice to have):**\\n\\n1. **Cloud Computing**: AWS, Google Cloud, Azure.\\n2. **Big Data**: Hadoop, Spark, NoSQL databases.\\n3. **Computer Vision**: Image processing, object detection.\\n4. **Natural Language Processing (NLP)**: Text processing, sentiment analysis.\\n\\n**Stay Up-to-Date:**\\n\\n1. **Follow AI blogs and research papers**.\\n2. **Participate in Kaggle competitions**.\\n3. **Join online communities**: Reddit's r/MachineLearning and r/AI.\\n\\nFocus on building a strong foundation in these skills to excel in AI.\""
      ]
     },
     "execution_count": 25,
     "metadata": {},
     "output_type": "execute_result"
    }
   ],
   "source": [
    "chat_with_history_2.invoke({\"messages\":[HumanMessage(\"What skills do I need to excel in my field\")],\n",
    "                            \"task\":\"summarize\"}, config=config2)"
   ]
  },
  {
   "cell_type": "code",
   "execution_count": null,
   "id": "260660ae",
   "metadata": {},
   "outputs": [],
   "source": []
  }
 ],
 "metadata": {
  "kernelspec": {
   "display_name": "genai",
   "language": "python",
   "name": "python3"
  },
  "language_info": {
   "codemirror_mode": {
    "name": "ipython",
    "version": 3
   },
   "file_extension": ".py",
   "mimetype": "text/x-python",
   "name": "python",
   "nbconvert_exporter": "python",
   "pygments_lexer": "ipython3",
   "version": "3.12.11"
  }
 },
 "nbformat": 4,
 "nbformat_minor": 5
}
