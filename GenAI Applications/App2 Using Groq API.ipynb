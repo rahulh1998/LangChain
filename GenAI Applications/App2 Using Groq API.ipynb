{
 "cells": [
  {
   "cell_type": "code",
   "execution_count": 1,
   "id": "88a58608",
   "metadata": {},
   "outputs": [],
   "source": [
    "import os\n",
    "from dotenv import load_dotenv\n",
    "load_dotenv()\n",
    "\n",
    "# Langsmith Tracing\n",
    "os.environ['LANGCHAIN_TRACING_V2'] = 'true'\n",
    "os.environ['OPENAI_API_KEY'] = os.getenv('OPENAI_API_KEY')\n",
    "os.environ['LANGCHAIN_PROJECT'] = os.getenv('LANGCHAIN_PROJECT')\n",
    "os.environ['GROQ_API_KEY'] = os.getenv('GROQ_API_KEY')"
   ]
  },
  {
   "cell_type": "code",
   "execution_count": 8,
   "id": "38df55a3",
   "metadata": {},
   "outputs": [
    {
     "data": {
      "text/plain": [
       "ChatGroq(client=<groq.resources.chat.completions.Completions object at 0x00000136DB6AB500>, async_client=<groq.resources.chat.completions.AsyncCompletions object at 0x00000136DB6AAF60>, model_name='groq/compound-mini', model_kwargs={}, groq_api_key=SecretStr('**********'))"
      ]
     },
     "execution_count": 8,
     "metadata": {},
     "output_type": "execute_result"
    }
   ],
   "source": [
    "from langchain_groq import ChatGroq\n",
    "from langchain_openai import ChatOpenAI\n",
    "from pprint import pprint\n",
    "\n",
    "llm = ChatGroq(model='groq/compound-mini')\n",
    "llm"
   ]
  },
  {
   "cell_type": "code",
   "execution_count": 9,
   "id": "2c3d5d05",
   "metadata": {},
   "outputs": [
    {
     "name": "stdout",
     "output_type": "stream",
     "text": [
      "('Here are the rules of F1 in 10 lines:\\n'\n",
      " '\\n'\n",
      " '1. The Formula 1 World Championship consists of multiple Grands Prix races.\\n'\n",
      " '2. Each team has two drivers competing in each race.\\n'\n",
      " '3. The objective is to complete the most laps in the shortest time.\\n'\n",
      " '4. Drivers start the race from a grid position determined by qualifying '\n",
      " 'laps.\\n'\n",
      " '5. The driver with the fastest lap in qualifying gets pole position.\\n'\n",
      " '6. Drivers can make pit stops to change tires and refuel (though refueling '\n",
      " 'is not allowed in some sessions).\\n'\n",
      " '7. Each driver has a limited number of engine components that can be used '\n",
      " 'throughout the season.\\n'\n",
      " '8. Drivers must complete a minimum of 90% of the laps to be classified as '\n",
      " 'finishers.\\n'\n",
      " '9. Safety cars and Virtual Safety Cars (VSC) can be deployed in case of '\n",
      " 'accidents or hazardous conditions.\\n'\n",
      " '10. Points are awarded to the top 10 finishers (25, 18, 15, 12, 10, 8, 6, 4, '\n",
      " '2, 1) to determine the championship standings.')\n"
     ]
    }
   ],
   "source": [
    "res = llm.invoke('Can you explain me about rules of f1 in 10 lines').content\n",
    "pprint(res)"
   ]
  },
  {
   "cell_type": "code",
   "execution_count": null,
   "id": "4e420224",
   "metadata": {},
   "outputs": [],
   "source": []
  }
 ],
 "metadata": {
  "kernelspec": {
   "display_name": "genai",
   "language": "python",
   "name": "python3"
  },
  "language_info": {
   "codemirror_mode": {
    "name": "ipython",
    "version": 3
   },
   "file_extension": ".py",
   "mimetype": "text/x-python",
   "name": "python",
   "nbconvert_exporter": "python",
   "pygments_lexer": "ipython3",
   "version": "3.12.11"
  }
 },
 "nbformat": 4,
 "nbformat_minor": 5
}
