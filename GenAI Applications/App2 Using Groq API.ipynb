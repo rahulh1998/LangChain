{
 "cells": [
  {
   "cell_type": "code",
   "execution_count": 1,
   "id": "88a58608",
   "metadata": {},
   "outputs": [],
   "source": [
    "import os\n",
    "from dotenv import load_dotenv\n",
    "load_dotenv()\n",
    "\n",
    "# Langsmith Tracing\n",
    "os.environ['LANGCHAIN_TRACING_V2'] = 'true'\n",
    "os.environ['OPENAI_API_KEY'] = os.getenv('OPENAI_API_KEY')\n",
    "os.environ['LANGCHAIN_PROJECT'] = os.getenv('LANGCHAIN_PROJECT')\n",
    "os.environ['GROQ_API_KEY'] = os.getenv('GROQ_API_KEY')"
   ]
  },
  {
   "cell_type": "code",
   "execution_count": 8,
   "id": "38df55a3",
   "metadata": {},
   "outputs": [
    {
     "data": {
      "text/plain": [
       "ChatGroq(client=<groq.resources.chat.completions.Completions object at 0x00000136DB6AB500>, async_client=<groq.resources.chat.completions.AsyncCompletions object at 0x00000136DB6AAF60>, model_name='groq/compound-mini', model_kwargs={}, groq_api_key=SecretStr('**********'))"
      ]
     },
     "execution_count": 8,
     "metadata": {},
     "output_type": "execute_result"
    }
   ],
   "source": [
    "from langchain_groq import ChatGroq\n",
    "from langchain_openai import ChatOpenAI\n",
    "from pprint import pprint\n",
    "\n",
    "llm = ChatGroq(model='groq/compound-mini')\n",
    "llm"
   ]
  },
  {
   "cell_type": "code",
   "execution_count": 9,
   "id": "2c3d5d05",
   "metadata": {},
   "outputs": [
    {
     "name": "stdout",
     "output_type": "stream",
     "text": [
      "('Here are the rules of F1 in 10 lines:\\n'\n",
      " '\\n'\n",
      " '1. The Formula 1 World Championship consists of multiple Grands Prix races.\\n'\n",
      " '2. Each team has two drivers competing in each race.\\n'\n",
      " '3. The objective is to complete the most laps in the shortest time.\\n'\n",
      " '4. Drivers start the race from a grid position determined by qualifying '\n",
      " 'laps.\\n'\n",
      " '5. The driver with the fastest lap in qualifying gets pole position.\\n'\n",
      " '6. Drivers can make pit stops to change tires and refuel (though refueling '\n",
      " 'is not allowed in some sessions).\\n'\n",
      " '7. Each driver has a limited number of engine components that can be used '\n",
      " 'throughout the season.\\n'\n",
      " '8. Drivers must complete a minimum of 90% of the laps to be classified as '\n",
      " 'finishers.\\n'\n",
      " '9. Safety cars and Virtual Safety Cars (VSC) can be deployed in case of '\n",
      " 'accidents or hazardous conditions.\\n'\n",
      " '10. Points are awarded to the top 10 finishers (25, 18, 15, 12, 10, 8, 6, 4, '\n",
      " '2, 1) to determine the championship standings.')\n"
     ]
    }
   ],
   "source": [
    "res = llm.invoke('Can you explain me about rules of f1 in 10 lines').content\n",
    "pprint(res)"
   ]
  },
  {
   "cell_type": "markdown",
   "id": "4e420224",
   "metadata": {},
   "source": [
    "### HumanMessages & System Messages"
   ]
  },
  {
   "cell_type": "code",
   "execution_count": 11,
   "id": "a7ed5bc6",
   "metadata": {},
   "outputs": [
    {
     "data": {
      "text/plain": [
       "\"Tu as l'air magnifique ce soir !\""
      ]
     },
     "execution_count": 11,
     "metadata": {},
     "output_type": "execute_result"
    }
   ],
   "source": [
    "from langchain_core.messages import HumanMessage, SystemMessage\n",
    "\n",
    "messages = [\n",
    "                SystemMessage(content=\"Translate the user message to French\"),\n",
    "                HumanMessage(content=\"You look beautiful tonight!\")\n",
    "]\n",
    "\n",
    "response = llm.invoke(messages)\n",
    "response.content"
   ]
  },
  {
   "cell_type": "code",
   "execution_count": 13,
   "id": "aab0b550",
   "metadata": {},
   "outputs": [
    {
     "data": {
      "text/plain": [
       "\"Tu as l'air magnifique ce soir !\""
      ]
     },
     "execution_count": 13,
     "metadata": {},
     "output_type": "execute_result"
    }
   ],
   "source": [
    "from langchain_core.output_parsers import StrOutputParser\n",
    "\n",
    "str_parser = StrOutputParser()\n",
    "str_parser.invoke(response)"
   ]
  },
  {
   "cell_type": "code",
   "execution_count": 14,
   "id": "ebdd9412",
   "metadata": {},
   "outputs": [
    {
     "data": {
      "text/plain": [
       "\"You look beautiful tonight translates to:\\n\\nTu as l'air magnifique ce soir!\\n\\nor, in a more formal tone:\\n\\nVous êtes magnifique ce soir!\""
      ]
     },
     "execution_count": 14,
     "metadata": {},
     "output_type": "execute_result"
    }
   ],
   "source": [
    "# Using LCEL For Chaining\n",
    "\n",
    "chain1 = llm|str_parser\n",
    "chain1.invoke(messages)"
   ]
  },
  {
   "cell_type": "code",
   "execution_count": 20,
   "id": "124f9ca9",
   "metadata": {},
   "outputs": [
    {
     "data": {
      "text/plain": [
       "ChatPromptValue(messages=[SystemMessage(content='Translate the following into French', additional_kwargs={}, response_metadata={}), HumanMessage(content='Rahul is a really amazing person', additional_kwargs={}, response_metadata={})])"
      ]
     },
     "execution_count": 20,
     "metadata": {},
     "output_type": "execute_result"
    }
   ],
   "source": [
    "from langchain_core.prompts import ChatPromptTemplate\n",
    "\n",
    "gen_prompt  = \"Translate the following into {language}\"\n",
    "prompt = ChatPromptTemplate.from_messages([\n",
    "                ('system',gen_prompt),\n",
    "                (\"user\", \"{text}\")\n",
    "])\n",
    "\n",
    "prompt.invoke({\"language\":\"French\",\"text\":\"Rahul is a really amazing person\"})"
   ]
  },
  {
   "cell_type": "code",
   "execution_count": 21,
   "id": "c1a47678",
   "metadata": {},
   "outputs": [
    {
     "data": {
      "text/plain": [
       "'To translate the sentence \"Rahul is a really amazing person\" into French, I will use my language capabilities.\\n\\nThe translation is: \"Rahul est une personne vraiment incroyable.\"\\n\\nHere\\'s a breakdown of the translation:\\n\\n- \"Rahul\" remains the same as it\\'s a proper noun.\\n- \"is\" is translated to \"est\".\\n- \"a\" is translated to \"une\".\\n- \"really\" is translated to \"vraiment\".\\n- \"amazing\" is translated to \"incroyable\".\\n- \"person\" is translated to \"personne\".'"
      ]
     },
     "execution_count": 21,
     "metadata": {},
     "output_type": "execute_result"
    }
   ],
   "source": [
    "chain2  = prompt|llm|str_parser\n",
    "chain2.invoke({\"language\":\"French\",\"text\":\"Rahul is a really amazing person\"})"
   ]
  }
 ],
 "metadata": {
  "kernelspec": {
   "display_name": "genai",
   "language": "python",
   "name": "python3"
  },
  "language_info": {
   "codemirror_mode": {
    "name": "ipython",
    "version": 3
   },
   "file_extension": ".py",
   "mimetype": "text/x-python",
   "name": "python",
   "nbconvert_exporter": "python",
   "pygments_lexer": "ipython3",
   "version": "3.12.11"
  }
 },
 "nbformat": 4,
 "nbformat_minor": 5
}
