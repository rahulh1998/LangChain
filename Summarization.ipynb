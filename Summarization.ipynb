{
 "cells": [
  {
   "cell_type": "markdown",
   "id": "eaed4cbd",
   "metadata": {},
   "source": [
    "# Summarization"
   ]
  },
  {
   "cell_type": "markdown",
   "id": "d5252d2a",
   "metadata": {},
   "source": [
    "<pre>\n",
    "    Summarization in Langchain\n",
    "        1. Stuff Document Chain\n",
    "        2. Map Reduce Chain -> Summarizes bigger chunks -> summarises the summary\n",
    "            a. Single Prompt\n",
    "            b. Multiple Prompt  \n",
    "        3. Refine Chain\n",
    "</pre>"
   ]
  },
  {
   "cell_type": "code",
   "execution_count": 33,
   "id": "2e127a88",
   "metadata": {},
   "outputs": [],
   "source": [
    "# Importing Libraries\n",
    "\n",
    "from dotenv import load_dotenv\n",
    "load_dotenv()\n",
    "import os\n",
    "\n",
    "os.environ['LANGCHAIN_TRACING_V2'] = 'true'\n",
    "os.environ['LANGCHAIN_PROJECT'] = os.getenv('LANGCHAIN_PROJECT')\n",
    "os.environ['GROQ_API_KEY'] = os.getenv('GROQ_API_KEY')\n",
    "os.environ['LANGCHAIN_API_KEY'] = os.getenv('LANGCHAIN_API_KEY')\n",
    "\n",
    "from langchain.chains import LLMChain\n",
    "from langchain.prompts import PromptTemplate\n",
    "\n",
    "from langchain_groq import ChatGroq\n",
    "from langchain_text_splitters import RecursiveCharacterTextSplitter\n",
    "from langchain_core.output_parsers import StrOutputParser\n",
    "\n",
    "from langchain_community.document_loaders import WikipediaLoader"
   ]
  },
  {
   "cell_type": "code",
   "execution_count": 40,
   "id": "2073b756",
   "metadata": {},
   "outputs": [],
   "source": [
    "# Creating Template\n",
    "template = \"\"\"\n",
    "Write a concise and short summary of the text : '{text}'\n",
    "\"\"\"\n",
    "\n",
    "prompt = PromptTemplate(input_variables=['text'], template=template)\n",
    "\n",
    "llm = ChatGroq(model = \"gemma2-9b-it\")"
   ]
  },
  {
   "cell_type": "code",
   "execution_count": 35,
   "id": "448eade0",
   "metadata": {},
   "outputs": [
    {
     "data": {
      "text/plain": [
       "'Here is a concise and short summary of the text:\\n\\nChelsea Football Club is a professional football club based in London, England, founded in 1905. They have won six top-flight league titles, eight FA Cups, and several international trophies, including the UEFA Champions League, UEFA Europa League, and FIFA Club World Cup. The club has a rivalry with fellow London teams Arsenal, Tottenham Hotspur, and Fulham, and has been owned by BlueCo since 2022.'"
      ]
     },
     "execution_count": 35,
     "metadata": {},
     "output_type": "execute_result"
    }
   ],
   "source": [
    " # Creating documents using Wikipedia Loader and then splitting the documents in chunks\n",
    "docs = WikipediaLoader(\"Chelsea FC\", load_max_docs=1, doc_content_chars_max=3000).load_and_split(RecursiveCharacterTextSplitter(chunk_size = 200, chunk_overlap = 30))\n",
    "\n",
    "# Stuff Document Chain\n",
    "from langchain.chains.summarize import load_summarize_chain\n",
    "chain = load_summarize_chain(llm, chain_type='stuff', prompt = prompt, verbose= False)\n",
    "stuff_summary = chain.run(docs)\n",
    "stuff_summary"
   ]
  },
  {
   "cell_type": "markdown",
   "id": "ba209bbb",
   "metadata": {},
   "source": [
    "## Map Reduce\n",
    "For very large datasets - Summary of summaries of smaller chunks"
   ]
  },
  {
   "cell_type": "code",
   "execution_count": 36,
   "id": "eaa46309",
   "metadata": {},
   "outputs": [],
   "source": [
    " # Creating documents using Wikipedia Loader and then splitting the documents in chunks\n",
    "docs1 = WikipediaLoader(\"Chelsea FC\", load_max_docs=10, doc_content_chars_max=3000).load_and_split(RecursiveCharacterTextSplitter(chunk_size = 1000, chunk_overlap = 30))"
   ]
  },
  {
   "cell_type": "code",
   "execution_count": 41,
   "id": "6c4652d1",
   "metadata": {},
   "outputs": [],
   "source": [
    "prompt = PromptTemplate.from_template(\"Generate a concise summary of the following text : {text} \")\n",
    "\n",
    "final_prompt_template = \"\"\"\n",
    "Provide the final summary of each document with the key points. \n",
    "Create a title of the summary. \n",
    "Return the summary with a title and all the major summarized points with an index starting from 1.\n",
    "\n",
    "Here is the text : {text}\n",
    "\"\"\"\n",
    "final_prompt = PromptTemplate(input_variables = ['text'], template = final_prompt_template)"
   ]
  },
  {
   "cell_type": "code",
   "execution_count": null,
   "id": "55fa7cb6",
   "metadata": {},
   "outputs": [
    {
     "data": {
      "text/plain": [
       "\"Here are the summaries with titles and key points:\\n\\n**Chelsea Football Club: A Century of Success**\\n\\nThis summary highlights the key milestones and achievements of Chelsea Football Club throughout its history.\\n\\n1. **Founding and Early Years:** Established in 1905, Chelsea quickly gained traction in English football, experiencing periods of both success and fluctuation.\\n2. **Rise to Dominance:** Under manager Ted Drake, Chelsea clinched its first league title in 1955, marking a turning point in its journey to becoming a top club.\\n3. **Modern Era Triumphs:** Chelsea's modern era has been defined by significant success, winning numerous Premier League titles, FA Cups, and major European trophies, including two Champions League titles.\\n4. **International Recognition:** Chelsea holds the distinction of being the only London club to have won both the Champions League and Club World Cup.\\n5. **Appearance Records:** Legendary players like Ron Harris, John Hollins, John Terry, and Frank Lampard have etched their names in the club's history by breaking numerous appearance records.\\n\\n**Chelsea Ladies FC: A Force in Women's Football**\\n\\nThis summary focuses on the achievements and history of Chelsea Ladies FC, a prominent force in women's football.\\n\\n1. **Humble Beginnings:** Founded in 1992 by supporter Tony Farmer, Chelsea Ladies FC initially gained prominence through their success in the Greater London Regional League.\\n2. **Official Affiliation:** In 2004, Chelsea Ladies FC officially joined forces with Chelsea FC, propelling them to the top tier of women's football.\\n3. **Dominance in Women's Football:** Chelsea Ladies FC has asserted its dominance, winning a record eight Women's Super League titles and numerous other trophies, including FA Cups and League Cups.\\n4. **International Recognition:** The team's success has extended to the international stage, securing a runner-up finish in the 2021 UEFA Women's Champions League final.\\n\\n**Chelsea F.C. Season Review: A Look at Records and Rivalries**\\n\\nThis document provides a snapshot of key facts and historical context about Chelsea Football Club, with a particular emphasis on records and rivalries.\\n\\n1. **Player Records:** The document highlights various player records, including the youngest and oldest players, the first substitute, and the most different players used in a single season.\\n2. **Intense Rivalry with Liverpool:** Chelsea F.C. and Liverpool F.C. share a fierce rivalry, solidified in the early 2000s due to frequent clashes in major competitions.\\n\\n **Chelsea F.C. - A Century of Football**\\n\\nThis document offers a glimpse into Chelsea F.C.'s rich history, highlighting key moments and achievements.\\n\\n1. **Founding and Early Years:** Established in 1905 by Gus Mears, Chelsea experienced early fluctuations between divisions but marked significant milestones like reaching the 1915 FA Cup final and securing a third-place finish in the First Division in 1920.\\n2. **Early Success and Fan Support:** Chelsea attracted star players and consistently drew large crowds, leading to ten seasons with the highest average attendance in English football.\\n3. **Abramovich Era and Premier League Dominance:** Roman Abramovich's ownership fueled significant spending, leading to the 100th-anniversary celebration in 2005-06 with a second consecutive Premier League title under manager José Mourinho.\\n4. **2005-06 Season Records:**  Chelsea set numerous Premier League records in the 2005-06 season, including the best ever start to a season, most wins in a season, and the strongest title defense start. \\n\\n**Chelsea F.C. 2004-05 and 2005-06: A Period of Transition and Success**\\n\\nThis document provides a snapshot of Chelsea F.C.'s performance during the 2004-05 and 2005-06 seasons.\\n\\n* **2004-05 Season Triumph:** Under José Mourinho, Chelsea won the Premier League and League Cup, setting several Premier League records, including most points, away wins, clean sheets, and fewest goals conceded.\\n* **2005-06 Season Review:** This season saw continued investment in the squad, although specific details about transfers or team management are not provided.\\n\\n\\n\\n**Chelsea F.C. 2005-06 Season: A Look at Kits, Players, and Transfers**\\n\\nThis document excerpt focuses on Chelsea F.C.'s 2005-06 season, highlighting details about their kits, management, and player roster.\\n\\n* **Kit Highlights:** The document details the home, away, and third kits worn by the team during the 2005-06 season.\\n* **Sponsorship:** It mentions Emirates Airline as the new shirt sponsor.\\n* **Management:** Information about the team's management during the season is not included.\\n* **Players:** The document lists the first-team squad at the end of the 2005-06 season, including player names and nationalities, as well as details about players who left the club during the season.\\n\\n\\n**Chelsea F.C. - Under-18 Squad and Transfers**\\n\\nThis document excerpt appears to focus on Chelsea F.C.'s under-18 squad and player transfers.\\n\\n* **Under-18 Players:** The document lists players who primarily played for the under-18 team, indicating their nationalities.\\n* **Transfers:**  It likely includes details about new players acquired by the club's under-18 squad during the season.\\n* **FIFA Eligibility:** The mention of FIFA eligibility rules suggests a focus on professional or semi-professional football.  \\n\\n\\n\\n\""
      ]
     },
     "execution_count": 42,
     "metadata": {},
     "output_type": "execute_result"
    }
   ],
   "source": [
    "map_reduce_summary_chain = load_summarize_chain(llm, \n",
    "                                                chain_type='map_reduce',\n",
    "                                                map_prompt = prompt, # Combine the summaries of each document\n",
    "                                                combine_prompt = final_prompt, # Generate summary of summaries\n",
    "                                                verbose=False)\n",
    "mr_summary = map_reduce_summary_chain.run(docs1)\n",
    "mr_summary"
   ]
  },
  {
   "cell_type": "markdown",
   "id": "d08d50fe",
   "metadata": {},
   "source": [
    "# Refine Summary\n",
    "Get rolling summary - Summary of chunk gets passed as a reference to next chunk "
   ]
  },
  {
   "cell_type": "code",
   "execution_count": 45,
   "id": "31c2178a",
   "metadata": {},
   "outputs": [
    {
     "data": {
      "text/plain": [
       "'Chelsea Football Club, founded on 10 March 1905 at The Rising Sun pub (now The Butcher\\'s Hook) in London, plays in the Premier League, the top tier of English football.  Several names were considered for the new club, including Kensington FC, Stamford Bridge FC and London FC, before settling on \"Chelsea\" after the adjacent borough to avoid confusion with the existing Fulham team. Their home ground is Stamford Bridge, which was originally an athletics stadium acquired by Gus Mears in 1904.  Mears initially planned to lease the stadium to Fulham F.C., but that proposal was turned down.  The club was elected to the Football League shortly after its founding.  \\n\\nIn their early years, Chelsea gained promotion to the First Division in their second season but quickly yo-yoed between the top two tiers.  They were known for signing star players, which contributed to their early success and attracted large crowds, even having the highest average attendance in English football in ten separate seasons. They reached the 1915 FA Cup final, though they were ultimately defeated by Sheffield United.  The club also had a strong season in 1920, finishing third in the First Division, their best league performance to date. They were FA Cup semi-finalists in 1920 and 1932 and remained in the First Division throughout the 1930s, but success **eluded the club in the inter-war years.**\\n\\nA turning point came in 1952 with the appointment of Ted Drake, former Arsenal and England centre-forward, who modernized the club. This ultimately led to their first major domestic trophy, the First Division championship, in 1955.  They continued to find success,  winning their first Premier League title in the 2004–05 season.  The club has won six top-flight league titles, along with eight FA Cups, five League Cups, and four FA Community Shields, making them the fifth-most successful club in English football.  \\n\\nAt international level, Chelsea won their first European trophy in 1971, lifting the Cup Winners\\' Cup, which they won again in 1998. They went on to win their first UEFA Champions League title in 2012 and repeated the feat in 2021. Chelsea have won the UEFA Europa League twice, in 2013 and 2019. After winning the UEFA Conference League in 2025, becoming the first club to win all four main UEFA competitions, as well as all UEFA Men\\'s competitions. They also won the FIFA Club World Cup in 2021 and 2025, the latter being the contest\\'s first iteration with 32 teams.  Chelsea have notable rivalries with fellow London teams Arsenal, Tottenham Hotspur, Fulham, and also with Leeds United.  \\n\\nSince 2022, the club has been owned by BlueCo. \\n\\n\\n\\n'"
      ]
     },
     "execution_count": 45,
     "metadata": {},
     "output_type": "execute_result"
    }
   ],
   "source": [
    "refine_summary_chain = load_summarize_chain(llm,\n",
    "                                            chain_type='refine',\n",
    "                                            verbose=False)\n",
    "refine_summary = refine_summary_chain.run(docs)\n",
    "refine_summary"
   ]
  },
  {
   "cell_type": "code",
   "execution_count": null,
   "id": "cb7779ff",
   "metadata": {},
   "outputs": [],
   "source": []
  }
 ],
 "metadata": {
  "kernelspec": {
   "display_name": "genai",
   "language": "python",
   "name": "python3"
  },
  "language_info": {
   "codemirror_mode": {
    "name": "ipython",
    "version": 3
   },
   "file_extension": ".py",
   "mimetype": "text/x-python",
   "name": "python",
   "nbconvert_exporter": "python",
   "pygments_lexer": "ipython3",
   "version": "3.12.11"
  }
 },
 "nbformat": 4,
 "nbformat_minor": 5
}
