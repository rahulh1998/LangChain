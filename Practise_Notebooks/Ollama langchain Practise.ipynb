{
 "cells": [
  {
   "cell_type": "code",
   "execution_count": 21,
   "id": "f42c1a58",
   "metadata": {},
   "outputs": [],
   "source": [
    "from langchain_ollama import OllamaLLM\n",
    "from langchain.prompts import ChatPromptTemplate\n",
    "from langchain_text_splitters import RecursiveCharacterTextSplitter\n",
    "from langchain_core.output_parsers import StrOutputParser \n",
    "\n",
    "import os\n",
    "from dotenv import load_dotenv\n",
    "load_dotenv()\n",
    "\n",
    "import warnings \n",
    "warnings.filterwarnings(\"ignore\")\n",
    "\n",
    "import subprocess\n",
    "model_name = \"gemma3:4b\"\n",
    "subprocess.run([\"ollama\", \"pull\", model_name], check=True)\n",
    "\n",
    "os.environ['LANGCHAIN_API_KEY'] = os.getenv(\"LANGCHAIN_API_KEY\")\n",
    "os.environ['LANGCHAIN_TRACING_V2'] = 'true'\n",
    "os.environ['LANGCHAIN_PROJECT'] = os.getenv(\"LANGCHAIN_PROJECT\")"
   ]
  },
  {
   "cell_type": "code",
   "execution_count": 22,
   "id": "bb097caf",
   "metadata": {},
   "outputs": [
    {
     "data": {
      "text/plain": [
       "'Okay, let\\'s break down the differences between Alpha and Beta males, as these terms have gained significant traction online, particularly within online communities like Reddit\\'s r/masculinity. It\\'s important to note that these are *social constructs* and not scientifically defined categories. They\\'ve emerged from online discussions and self-identification, and their definitions are often debated and sometimes overly simplistic.\\n\\n**1. The \"Alpha Male\" Concept (Often Misunderstood)**\\n\\n* **Origin:** The \"alpha male\" concept comes from observing wolf packs. It\\'s based on the idea that wolves establish dominance hierarchies within their packs.\\n* **Traditional (and often problematic) Interpretation:** Originally, the \"alpha male\" was meant to represent a confident, assertive, dominant, and successful man who takes charge and leads.  This interpretation has been heavily promoted by self-help gurus and online communities, often with a focus on aggression, competition, and a need to \"win.\"\\n* **Online (Problematic) Manifestation:** In online communities, the “alpha male” has become heavily associated with:\\n    * **Aggression & Dominance:**  A strong emphasis on asserting oneself, often through confrontational behavior, and a need to \"win\" arguments.\\n    * **Material Success:**  A focus on wealth, status, and achievements as markers of success.\\n    * **Emotional Suppression:** The idea of hiding vulnerability and appearing strong, regardless of internal feelings.\\n    * **Competition:**  A drive to always be \"better\" than others.\\n\\n\\n**2. The \"Beta Male\" Concept**\\n\\n* **Origin:**  The \"beta male\" concept originated as a counter-narrative to the \"alpha male\" in the late 20th century, particularly in psychological circles. It was originally introduced by psychologists like Donald Peterson.\\n* **Original Meaning (Psychological):** Peterson initially defined the beta male as a man who recognizes his own deficiencies and willingly accepts a subordinate role within a relationship or social structure. It wasn\\'t necessarily about being *weak* or lacking confidence, but about understanding one’s limitations and adapting accordingly. It was seen as a healthy, mature response.\\n* **Online (Negative) Interpretation:**  Within online communities (particularly r/masculinity), the \"beta male\" has become a derogatory label applied to men who are perceived as:\\n    * **Passive & Submissive:**  A lack of assertiveness, reluctance to take initiative, and a tendency to agree with others.\\n    * **Lack of Ambition:**  A lack of drive to achieve goals and a willingness to accept a mundane or unfulfilling life.\\n    * **Emotionally Vulnerable:**  Being seen as overly sensitive or easily influenced.\\n    * **Lacking Confidence:** This is a key element of the online derision –  a perceived lack of self-assurance.\\n\\n**Here\\'s a table summarizing the key differences:**\\n\\n| Feature           | Alpha Male (Online Interpretation) | Beta Male (Online Interpretation) | Original Psychological Concept |\\n|--------------------|------------------------------------|------------------------------------|---------------------------------|\\n| **Core Behavior** | Dominance, Assertiveness, Competition | Passivity, Submissiveness, Agreement | Accepting limitations, Maturity |\\n| **Emotional State** | Suppressed, Strong, Unwavering        | Vulnerable, Sensitive, Dependent     | Aware of self, Realistic        |\\n| **Goal**            | To be the \"best\"                   | To conform and avoid conflict      |  Healthy self-awareness          |\\n| **Social Role**     | Leader, Top of the hierarchy        | Follower, Subordinate             |  Contributing member          |\\n\\n\\n\\n**Important Caveats & Why the Terms Are Problematic:**\\n\\n* **Oversimplification:** Both terms are overly simplistic and don\\'t capture the complexity of human personality and behavior.\\n* **Toxic Masculinity:** The online \"alpha male\" concept, particularly as it\\'s been promoted, is often linked to toxic masculinity – harmful attitudes and behaviors associated with traditional masculinity. It can encourage aggression, dominance, and the suppression of emotions.\\n* **Self-Fulfilling Prophecy:**  The labels themselves can become self-fulfilling prophecies. If someone believes they *have* to be dominant to be a \"real man,\" they may act in ways that reinforce that stereotype, regardless of their actual personality.\\n* **Lack of Scientific Basis:**  There\\'s no scientific evidence to support the existence of distinct \"alpha\" and \"beta\" personality types.\\n\\n**A More Useful Perspective:**\\n\\nInstead of trying to fit into these rigid categories, it’s more helpful to focus on developing:\\n\\n* **Self-awareness:** Understanding your strengths and weaknesses.\\n* **Emotional Intelligence:**  Managing your emotions and relating effectively to others.\\n* **Healthy Assertiveness:**  Communicating your needs and boundaries respectfully.\\n* **Confidence:**  Believing in yourself and your abilities.\\n\\n\\n\\n**Disclaimer:** *I am an AI Chatbot and cannot offer psychological advice. If you are struggling with feelings of inadequacy, insecurity, or unhealthy behaviors, please reach out to a qualified mental health professional.*\\n\\nDo you want me to delve deeper into any specific aspect of this topic, such as:\\n\\n*   The history of the \"alpha male\" concept?\\n*   The criticisms of the online \"alpha male\" stereotype?\\n*   How to develop healthy masculinity?'"
      ]
     },
     "execution_count": 22,
     "metadata": {},
     "output_type": "execute_result"
    }
   ],
   "source": [
    "llm = OllamaLLM(model = model_name)\n",
    "llm.invoke(\"What are differences between a aphla and a beta male\")"
   ]
  },
  {
   "cell_type": "code",
   "execution_count": 23,
   "id": "e5c0e4be",
   "metadata": {},
   "outputs": [],
   "source": [
    "parser = StrOutputParser()"
   ]
  },
  {
   "cell_type": "code",
   "execution_count": 27,
   "id": "6757b915",
   "metadata": {},
   "outputs": [
    {
     "data": {
      "text/plain": [
       "\"Respond to the following requests with a structured output, using the following format:\\n\\n**Question:** [User's Question]\\n\\n**Answer:**\\n*   **Summary:** [Concise summary of the answer]\\n*   **Key Points:**\\n    *   [Point 1]\\n    *   [Point 2]\\n    *   [Point 3]\\n    *   ...\\n*   **Details:** [Expand on key points with relevant supporting information, if applicable]\\n*   **Example(s):** [Provide an example to illustrate the concept]\\n*   **Source(s):** [List any sources used to formulate the answer – this can be a brief citation or a link if appropriate.]\\n\""
      ]
     },
     "execution_count": 27,
     "metadata": {},
     "output_type": "execute_result"
    }
   ],
   "source": [
    "chain = llm|parser\n",
    "prompt_by_llm = chain.invoke(\"Give me a prompt that i can use for making a llm call to always give a structured and easy to understand output. Only return prompt and no extra explainations\")\n",
    "prompt_by_llm"
   ]
  },
  {
   "cell_type": "code",
   "execution_count": 28,
   "id": "94b8ebd7",
   "metadata": {},
   "outputs": [
    {
     "data": {
      "text/plain": [
       "'**Question:** What are ways of prompting an LLM?\\n\\n**Answer:**\\n*   **Summary:** Prompting an LLM effectively involves crafting specific instructions and providing context to guide its output. Techniques range from simple instructions to complex, multi-turn interactions. The goal is to elicit the desired response format, accuracy, and style.\\n\\n*   **Key Points:**\\n    *   **Clear Instructions:**  LLMs respond best to explicit instructions about the desired task, format, and length of the response.\\n    *   **Context Provision:** Providing background information or context helps the LLM understand the scope and purpose of the request.\\n    *   **Role-Playing:** Assigning the LLM a specific role (e.g., \"Act as a marketing expert...\") can dramatically improve the quality and relevance of its output.\\n    *   **Few-Shot Learning:**  Including a few examples of desired input-output pairs within the prompt demonstrates the desired behavior.\\n    *   **Chain-of-Thought Prompting:** Encouraging the LLM to explicitly articulate its reasoning process can improve accuracy, particularly for complex tasks.\\n\\n*   **Details:**\\n    *   **Clear Instructions:** Instead of saying \"Write about climate change,\" try “Write a short paragraph summarizing the causes of climate change and its potential consequences.”\\n    *   **Context Provision:** If asking about Shakespeare, you might provide “Shakespeare wrote many famous plays. Explain the themes prevalent in Hamlet.”\\n    *   **Role-Playing:** \"You are a customer service representative for a tech company.  A customer is complaining about slow internet speeds.  Respond to their complaint professionally and offer troubleshooting steps.”\\n    *   **Few-Shot Learning:** \"Translate the following sentences into French:  \\'Hello, how are you?\\' -> \\'Bonjour, comment allez-vous ?\\'  \\'Goodbye\\' -> \\'Au revoir\\' Now translate \\'Thank you.\\'\"\\n    *   **Chain-of-Thought Prompting:** “Solve this math problem step-by-step: If a train leaves Chicago at 8:00 AM traveling at 60 mph and another train leaves New York at 9:00 AM traveling at 80 mph, when will they meet?” (This encourages the LLM to break down the problem).\\n\\n*   **Example(s):**\\n    *   **Simple Instruction:**  \"Write a poem about a cat.\"\\n    *   **Role-Playing & Context:** “You are a travel agent. A customer wants a relaxing beach vacation in the Caribbean. Suggest three resorts, including their price ranges and key features.”\\n    *   **Few-Shot Learning (Code Generation):**\\n        *   “Write a Python function to calculate the factorial of a number.”\\n        *   “Now, write a Python function to reverse a string.”\\n\\n\\n*   **Source(s):**\\n    *   [https://www.promptingguide.ai/](https://www.promptingguide.ai/) – Excellent resource for understanding prompting techniques.\\n    *   [https://www.deeplearninglove.com/prompt-engineering/](https://www.deeplearninglove.com/prompt-engineering/) – Another helpful overview of prompt engineering.'"
      ]
     },
     "execution_count": 28,
     "metadata": {},
     "output_type": "execute_result"
    }
   ],
   "source": [
    "prompt = ChatPromptTemplate.from_messages([\n",
    "    (\"system\",prompt_by_llm),\n",
    "    (\"user\",'{question}')\n",
    "])\n",
    "\n",
    "chain = prompt|llm|parser\n",
    "chain.invoke(\"What are ways of prompting an llm\")"
   ]
  },
  {
   "cell_type": "code",
   "execution_count": 29,
   "id": "2b58a701",
   "metadata": {},
   "outputs": [
    {
     "name": "stderr",
     "output_type": "stream",
     "text": [
      "Error in RootListenersTracer.on_llm_end callback: KeyError('message')\n"
     ]
    },
    {
     "data": {
      "text/plain": [
       "'That\\'s a fantastic question, and it gets to a really interesting quirk of pineapple development! Here\\'s the breakdown of why some pineapples are pink:\\n\\n**It\\'s a genetic mutation!**\\n\\n* **The \\'Rose\\' Pineapple:** The pink color you see in some pineapples, like the \\'Rose\\' pineapple, isn\\'t a natural characteristic of the fruit itself. It\\'s a result of a recessive genetic mutation.\\n* **Anthocyanins:** This mutation causes the pineapple to produce high levels of anthocyanins – these are the same pigments that create the red and purple colors in berries like blueberries and blackberries.\\n* **Lack of Chlorophyll:**  The mutation also inhibits the production of chlorophyll, which is what gives most pineapples their green color.  Without enough chlorophyll, the flesh appears pale and then takes on the reddish-pink hue from the anthocyanins.\\n\\n**Here\\'s the key:**\\n\\n* **Dominant Green is Normal:**  The *typical* pineapple has a dominant gene that produces plenty of chlorophyll, resulting in a bright green color.\\n* **Recessive Pink is Rare:**  The ‘Rose’ pineapple only appears when a plant inherits two copies of the recessive gene for anthocyanin production.\\n\\n\\n**Think of it like this:**  It\\'s like a genetic \"switch\" that turns off the green and turns on the pink!\\n\\n**Resources for more information:**\\n\\n* **Smithsonian Magazine - Why Are Some Pineapples Pink?**: [https://www.smithsonianmag.com/science-nature/why-are-some-pineapples-pink-18095711/](https://www.smithsonianmag.com/science-nature/why-are-some-pineapples-pink-18095711/)\\n* **Live Science - Why Are Some Pineapples Pink?**: [https://www.livescience.com/why-are-some-pineapples-pink](https://www.livescience.com/why-are-some-pineapples-pink)\\n\\n\\nDo you want to know anything more about pineapples in general, or perhaps how they grow?'"
      ]
     },
     "execution_count": 29,
     "metadata": {},
     "output_type": "execute_result"
    }
   ],
   "source": [
    "from langchain_community.chat_message_histories import ChatMessageHistory\n",
    "from langchain_core.chat_history import BaseChatMessageHistory\n",
    "from langchain_core.runnables import RunnableWithMessageHistory\n",
    "from langchain_core.messages import HumanMessage\n",
    "\n",
    "# Creating an empty dictionary for storing the session id'set\n",
    "store = {}\n",
    "\n",
    "def get_session_history(session_id : str)->BaseChatMessageHistory:\n",
    "    if session_id not in store:\n",
    "        store[session_id] = ChatMessageHistory()\n",
    "    return store[session_id]\n",
    "\n",
    "\n",
    "with_chat_message_history = RunnableWithMessageHistory(llm,get_session_history)\n",
    "\n",
    "config = {\"configurable\":{\"session_id\":'chat1'}}\n",
    "\n",
    "chain = with_chat_message_history|parser\n",
    "\n",
    "chain.invoke([HumanMessage('Why are pineapples pink?')], config=config)"
   ]
  },
  {
   "cell_type": "code",
   "execution_count": 30,
   "id": "1026c6e9",
   "metadata": {},
   "outputs": [
    {
     "name": "stderr",
     "output_type": "stream",
     "text": [
      "Error in RootListenersTracer.on_llm_end callback: KeyError('message')\n"
     ]
    },
    {
     "data": {
      "text/plain": [
       "'You asked: “What was my last question?” 😊 \\n\\nIs that correct?'"
      ]
     },
     "execution_count": 30,
     "metadata": {},
     "output_type": "execute_result"
    }
   ],
   "source": [
    "chain.invoke(\"what was my last question\", config=config)"
   ]
  },
  {
   "cell_type": "code",
   "execution_count": 31,
   "id": "7fd05a2d",
   "metadata": {},
   "outputs": [
    {
     "name": "stderr",
     "output_type": "stream",
     "text": [
      "Error in RootListenersTracer.on_llm_end callback: KeyError('message')\n"
     ]
    },
    {
     "data": {
      "text/plain": [
       "'Hi Rahul! It’s nice to meet you. 😊 \\n\\nHow’s your day going so far? Is there anything you’d like to chat about, or were you just saying hello?'"
      ]
     },
     "execution_count": 31,
     "metadata": {},
     "output_type": "execute_result"
    }
   ],
   "source": [
    "chain.invoke(\"hi im rahul\", config=config)"
   ]
  },
  {
   "cell_type": "code",
   "execution_count": 32,
   "id": "ad1440ee",
   "metadata": {},
   "outputs": [
    {
     "name": "stderr",
     "output_type": "stream",
     "text": [
      "Error in RootListenersTracer.on_llm_end callback: KeyError('message')\n"
     ]
    },
    {
     "data": {
      "text/plain": [
       "\"I do not have access to personal information, including your name. As an AI, I have no memory of past conversations and cannot recall details about you. \\n\\nTo tell me your name, you'll need to tell me! 😊\""
      ]
     },
     "execution_count": 32,
     "metadata": {},
     "output_type": "execute_result"
    }
   ],
   "source": [
    "chain.invoke(\"what is my name\", config=config)"
   ]
  },
  {
   "cell_type": "code",
   "execution_count": 1,
   "id": "35e48e0e",
   "metadata": {},
   "outputs": [
    {
     "data": {
      "text/plain": [
       "CompletedProcess(args='ollama list', returncode=0, stdout='NAME                        ID              SIZE      MODIFIED       \\ngemma3:4b                   a2af6cc3eb7f    3.3 GB    38 seconds ago    \\ncodellama:7b                8fdf8f752f6e    3.8 GB    24 minutes ago    \\nqwen2.5-coder:7b            dae161e27b0e    4.7 GB    26 minutes ago    \\nphi3:latest                 4f2222927938    2.2 GB    29 minutes ago    \\nembeddinggemma:300m         85462619ee72    621 MB    15 hours ago      \\ngemma3:270m                 e7d36fb2c3b3    291 MB    17 hours ago      \\nall-minilm:22m              1b226e2802db    45 MB     18 hours ago      \\nqwen3:4b                    e55aed6fe643    2.5 GB    9 days ago        \\nmxbai-embed-large:latest    468836162de7    669 MB    10 days ago       \\ndeepseek-r1:7b              755ced02ce7b    4.7 GB    13 days ago       \\ndeepseek-r1:latest          6995872bfe4c    5.2 GB    13 days ago       \\n', stderr='')"
      ]
     },
     "execution_count": 1,
     "metadata": {},
     "output_type": "execute_result"
    }
   ],
   "source": [
    "import subprocess\n",
    "subprocess.run(\"ollama list\",check=True,  capture_output=True, text=True)"
   ]
  },
  {
   "cell_type": "code",
   "execution_count": null,
   "id": "7a1466b0",
   "metadata": {},
   "outputs": [],
   "source": []
  }
 ],
 "metadata": {
  "kernelspec": {
   "display_name": "genai",
   "language": "python",
   "name": "python3"
  },
  "language_info": {
   "codemirror_mode": {
    "name": "ipython",
    "version": 3
   },
   "file_extension": ".py",
   "mimetype": "text/x-python",
   "name": "python",
   "nbconvert_exporter": "python",
   "pygments_lexer": "ipython3",
   "version": "3.12.11"
  }
 },
 "nbformat": 4,
 "nbformat_minor": 5
}
