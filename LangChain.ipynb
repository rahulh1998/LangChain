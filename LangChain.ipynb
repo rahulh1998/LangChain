{
 "cells": [
  {
   "cell_type": "markdown",
   "id": "c1f88779",
   "metadata": {},
   "source": [
    "# LangChain"
   ]
  },
  {
   "cell_type": "code",
   "execution_count": null,
   "id": "0787699a",
   "metadata": {},
   "outputs": [],
   "source": [
    "import os\n",
    "from dotenv import load_dotenv\n",
    "load_dotenv()\n",
    "# os.environ['HF_TOKEN']"
   ]
  },
  {
   "cell_type": "markdown",
   "id": "89c08b11",
   "metadata": {},
   "source": [
    "#### Document Loaders"
   ]
  },
  {
   "cell_type": "code",
   "execution_count": null,
   "id": "d4f199fb",
   "metadata": {},
   "outputs": [],
   "source": [
    "from langchain_community.document_loaders import TextLoader\n",
    "\n",
    "# Create TextLoader Object\n",
    "loader = TextLoader(\"Data/speech.txt\")\n",
    "\n",
    "# Get file Contents\n",
    "speech_doc = loader.load()\n",
    "\n",
    "speech_doc[0]"
   ]
  },
  {
   "cell_type": "code",
   "execution_count": null,
   "id": "fe96e0c5",
   "metadata": {},
   "outputs": [],
   "source": [
    "from langchain_community.document_loaders import PyPDFLoader\n",
    "\n",
    "pdf_loader = PyPDFLoader(\"Data/attention.pdf\")\n",
    "pdf_loader = pdf_loader.load()\n",
    "pdf_loader"
   ]
  },
  {
   "cell_type": "code",
   "execution_count": null,
   "id": "3a11798b",
   "metadata": {},
   "outputs": [],
   "source": [
    "from langchain_community.document_loaders import WebBaseLoader\n",
    "import bs4\n",
    "wb_loader = WebBaseLoader(web_path=\"https://lilianweng.github.io/posts/2023-06-23-agent/\",\n",
    "                          bs_kwargs=dict(parse_only = bs4.SoupStrainer(\n",
    "                              class_ = (\"post-title\",\"post-content\",\"post-header\")\n",
    "                          )),\n",
    "                          )\n",
    "wb_loader.load()"
   ]
  },
  {
   "cell_type": "code",
   "execution_count": null,
   "id": "361211a7",
   "metadata": {},
   "outputs": [],
   "source": [
    "from langchain_community.document_loaders import ArxivLoader\n",
    "ax_loader = ArxivLoader(query=\"2304.10557\",load_max_docs = 2).load()\n",
    "ax_loader"
   ]
  },
  {
   "cell_type": "code",
   "execution_count": null,
   "id": "5c81e1e8",
   "metadata": {},
   "outputs": [],
   "source": [
    "from langchain_community.document_loaders import WikipediaLoader\n",
    "wp_loader = WikipediaLoader(query=\"Chelsea FC\", load_max_docs=2).load()\n",
    "wp_loader"
   ]
  },
  {
   "cell_type": "markdown",
   "id": "21bf3f2f",
   "metadata": {},
   "source": [
    "# Text Splitters"
   ]
  },
  {
   "cell_type": "code",
   "execution_count": null,
   "id": "57619b20",
   "metadata": {},
   "outputs": [],
   "source": [
    "# Recursive Split Text by Characters\n",
    "from langchain_text_splitters import RecursiveCharacterTextSplitter\n",
    "char_splitter = RecursiveCharacterTextSplitter(chunk_size = 500, chunk_overlap=50)\n",
    "final_chunked_documents = char_splitter.split_documents(pdf_loader)\n",
    "final_chunked_documents"
   ]
  },
  {
   "cell_type": "code",
   "execution_count": null,
   "id": "7a58dfea",
   "metadata": {},
   "outputs": [],
   "source": [
    "final_chunked_documents[1]"
   ]
  },
  {
   "cell_type": "code",
   "execution_count": null,
   "id": "effc21cd",
   "metadata": {},
   "outputs": [],
   "source": [
    "with open('Data/speech.txt') as file:\n",
    "    speech_txt = file.readlines()\n",
    "\n",
    "from langchain_text_splitters import CharacterTextSplitter\n",
    "char_text_splitter = CharacterTextSplitter(chunk_size = 100, chunk_overlap = 20) #By default splits on '\\n\\n'\n",
    "speech_doc = char_text_splitter.create_documents(speech_txt)\n",
    "char_splitter.split_documents(speech_doc)"
   ]
  },
  {
   "cell_type": "code",
   "execution_count": null,
   "id": "7060b19b",
   "metadata": {},
   "outputs": [],
   "source": [
    "from langchain_text_splitters import HTMLHeaderTextSplitter\n",
    "headers_to_split_on  = [('h1','H1'), ('h2','H2'),('h3','H3')]\n",
    "html_head_splitter = HTMLHeaderTextSplitter(headers_to_split_on=headers_to_split_on)\n",
    "html_splits = html_head_splitter.split_text_from_url(\"https://longform.org/random\")\n",
    "html_splits"
   ]
  },
  {
   "cell_type": "code",
   "execution_count": null,
   "id": "0f28900b",
   "metadata": {},
   "outputs": [],
   "source": [
    "import json\n",
    "import requests\n",
    "\n",
    "json_data = requests.get(\"https://api.smith.langchain.com/openapi.json\").json()\n",
    "\n",
    "from langchain_text_splitters import RecursiveJsonSplitter\n",
    "json_splitter = RecursiveJsonSplitter(max_chunk_size = 300)\n",
    "splitted_json = json_splitter.split_json(json_data)\n",
    "splitted_json"
   ]
  },
  {
   "cell_type": "code",
   "execution_count": null,
   "id": "f0f8f10f",
   "metadata": {},
   "outputs": [],
   "source": [
    "json_doc = json_splitter.create_documents([json_data])\n",
    "json_text = json_splitter.split_text(json_data)\n",
    "json_text"
   ]
  },
  {
   "cell_type": "markdown",
   "id": "1c89ae40",
   "metadata": {},
   "source": [
    "## Embedding Techniques"
   ]
  },
  {
   "cell_type": "code",
   "execution_count": null,
   "id": "020299a7",
   "metadata": {},
   "outputs": [],
   "source": [
    "import os\n",
    "from dotenv import load_dotenv\n",
    "load_dotenv()"
   ]
  },
  {
   "cell_type": "code",
   "execution_count": null,
   "id": "10d5da38",
   "metadata": {},
   "outputs": [],
   "source": [
    "os.environ['OPENAI_API_KEY'] = os.getenv('OPENAI_API_KEY')# to get the api key "
   ]
  },
  {
   "cell_type": "code",
   "execution_count": null,
   "id": "b4621861",
   "metadata": {},
   "outputs": [],
   "source": [
    "from langchain_openai import OpenAIEmbeddings\n",
    "# embedding_model = OpenAIEmbeddings(model='text-embedding-3-small', dimensions=1056)\n",
    "embedding_model"
   ]
  },
  {
   "cell_type": "code",
   "execution_count": null,
   "id": "7290ba08",
   "metadata": {},
   "outputs": [],
   "source": [
    "vector = embedding_model.embed_query('Hi meet cool AI Engineer Rahul')\n",
    "len(vector)"
   ]
  },
  {
   "cell_type": "code",
   "execution_count": null,
   "id": "8551d63f",
   "metadata": {},
   "outputs": [],
   "source": [
    "vector"
   ]
  },
  {
   "cell_type": "code",
   "execution_count": null,
   "id": "dcb11bbb",
   "metadata": {},
   "outputs": [],
   "source": [
    "from langchain_community.document_loaders import WikipediaLoader\n",
    "wp_chels = WikipediaLoader('Chelsea FC', load_max_docs=1, doc_content_chars_max=150).load()\n",
    "\n",
    "from langchain_text_splitters import RecursiveCharacterTextSplitter\n",
    "rct_splitter =  RecursiveCharacterTextSplitter(chunk_size = 100, chunk_overlap = 10)\n",
    "splitted_chels = rct_splitter.split_documents(wp_chels)\n",
    "splitted_chels"
   ]
  },
  {
   "cell_type": "code",
   "execution_count": null,
   "id": "a99535af",
   "metadata": {},
   "outputs": [],
   "source": [
    "from langchain_openai import OpenAIEmbeddings\n",
    "# embedding_model_200 = OpenAIEmbeddings(model='text-embedding-3-small', dimensions=200)\n"
   ]
  },
  {
   "cell_type": "markdown",
   "id": "b3900a1b",
   "metadata": {},
   "source": [
    "## Vector Stores"
   ]
  },
  {
   "cell_type": "markdown",
   "id": "a72814f3",
   "metadata": {},
   "source": [
    "We need to specify the chunks and the embedding model to the vector store"
   ]
  },
  {
   "cell_type": "code",
   "execution_count": null,
   "id": "6089cdca",
   "metadata": {},
   "outputs": [],
   "source": [
    "from langchain_community.vectorstores import Chroma\n",
    "db = Chroma.from_documents(splitted_chels, embedding_model_200)\n",
    "db"
   ]
  },
  {
   "cell_type": "code",
   "execution_count": null,
   "id": "3ac23cbe",
   "metadata": {},
   "outputs": [],
   "source": [
    "splitted_chels"
   ]
  },
  {
   "cell_type": "markdown",
   "id": "a15159ce",
   "metadata": {},
   "source": [
    "## Retreival"
   ]
  },
  {
   "cell_type": "code",
   "execution_count": null,
   "id": "1aeab732",
   "metadata": {},
   "outputs": [],
   "source": [
    "db.similarity_search('FIFA Club World Cup')"
   ]
  },
  {
   "cell_type": "markdown",
   "id": "4bd4f67a",
   "metadata": {},
   "source": [
    "# Ollama"
   ]
  },
  {
   "cell_type": "markdown",
   "id": "b3baa09b",
   "metadata": {},
   "source": [
    "ollama run deepseek-r1"
   ]
  },
  {
   "cell_type": "code",
   "execution_count": null,
   "id": "65801c56",
   "metadata": {},
   "outputs": [],
   "source": [
    "from langchain_community.embeddings import OllamaEmbeddings #embedding_model_ollama\n",
    "embeddings = (OllamaEmbeddings(model='deepseek-r1')) #uses llama2 by default\n",
    "embeddings"
   ]
  },
  {
   "cell_type": "code",
   "execution_count": null,
   "id": "9203e648",
   "metadata": {},
   "outputs": [],
   "source": [
    "e1 = embeddings.embed_documents([\n",
    "    'Rahul is awesome',\n",
    "    'Rahul likes football'\n",
    "])\n",
    "\n",
    "e1"
   ]
  },
  {
   "cell_type": "code",
   "execution_count": null,
   "id": "211f09c9",
   "metadata": {},
   "outputs": [],
   "source": [
    "len(e1[0])"
   ]
  },
  {
   "cell_type": "code",
   "execution_count": null,
   "id": "caf8f70c",
   "metadata": {},
   "outputs": [],
   "source": [
    "embeddings.embed_query('Rahul loves Chelsea')"
   ]
  },
  {
   "cell_type": "markdown",
   "id": "5635b8cf",
   "metadata": {},
   "source": [
    "Good Embedding Model - ollama pull mxbai-embed-large<br>\n",
    "Link : <a href=\"https://ollama.com/blog/embedding-models\"> Ollama Embedding Models </a>"
   ]
  },
  {
   "cell_type": "code",
   "execution_count": null,
   "id": "fee86d36",
   "metadata": {},
   "outputs": [],
   "source": [
    "from langchain_community.embeddings import OllamaEmbeddings\n",
    "ollama_large_embedding_model = OllamaEmbeddings(model=\"mxbai-embed-large\")\n",
    "ollama_large_embedding_model.embed_query(\"Wow\")"
   ]
  },
  {
   "cell_type": "code",
   "execution_count": null,
   "id": "9bf56467",
   "metadata": {},
   "outputs": [],
   "source": [
    "vec = ollama_large_embedding_model.embed_query(\"Rahul Loves Chelsea\")\n",
    "len(vec)"
   ]
  },
  {
   "cell_type": "markdown",
   "id": "4a810671",
   "metadata": {},
   "source": [
    "### Hugging Face Embeddings"
   ]
  },
  {
   "cell_type": "code",
   "execution_count": null,
   "id": "bec575c2",
   "metadata": {},
   "outputs": [],
   "source": [
    "from langchain_huggingface import HuggingFaceEmbeddings\n",
    "hf_embeddings = HuggingFaceEmbeddings(model_name = \"all-MiniLM-L6-v2\")\n",
    "hf_embeddings"
   ]
  },
  {
   "cell_type": "code",
   "execution_count": null,
   "id": "b4f868f6",
   "metadata": {},
   "outputs": [],
   "source": [
    "len(hf_embeddings.embed_query(\"Rahul loves Chelsea FC\"))"
   ]
  },
  {
   "cell_type": "code",
   "execution_count": null,
   "id": "6fe4c76f",
   "metadata": {},
   "outputs": [],
   "source": [
    "from langchain_community.document_loaders import WikipediaLoader\n",
    "chelsea_doc = WikipediaLoader(query=\"Chelsea FC\", load_max_docs=2).load()\n",
    "rct_splitter = RecursiveCharacterTextSplitter(chunk_size = 200, chunk_overlap = 20) # \n",
    "chelsea_splitted = rct_splitter.split_documents(chelsea_doc)\n",
    "chelsea_splitted"
   ]
  },
  {
   "cell_type": "code",
   "execution_count": null,
   "id": "c9d57a2e",
   "metadata": {},
   "outputs": [],
   "source": [
    "chelsea_splitted[0].page_content"
   ]
  },
  {
   "cell_type": "code",
   "execution_count": null,
   "id": "c045c83f",
   "metadata": {},
   "outputs": [],
   "source": [
    "# Embedding a whole document\n",
    "hf_embeddings.embed_documents([doc.page_content for doc in chelsea_splitted])"
   ]
  },
  {
   "cell_type": "markdown",
   "id": "84357100",
   "metadata": {},
   "source": [
    "## Embedding and Storing in a Vector Database"
   ]
  },
  {
   "cell_type": "code",
   "execution_count": null,
   "id": "edd99b5b",
   "metadata": {},
   "outputs": [],
   "source": [
    "# Creating a vector store for the whole document after embedding it !!!!\n",
    "from langchain_community.vectorstores import Chroma\n",
    "chelsea_db = Chroma.from_documents(documents=chelsea_splitted,embedding= hf_embeddings, collection_name='ChelseaFC')\n",
    "chelsea_db.similarity_search('who is manager', k=1)"
   ]
  },
  {
   "cell_type": "code",
   "execution_count": null,
   "id": "f1f538c8",
   "metadata": {},
   "outputs": [],
   "source": [
    "from langchain_community.document_loaders import WikipediaLoader\n",
    "from langchain_text_splitters import RecursiveCharacterTextSplitter\n",
    "\n",
    "# Creatign a document using Wikipedia loader for ChelseaFC\n",
    "chelsea_doc = WikipediaLoader(query=\"Chelsea FC\", load_max_docs=10).load()\n",
    "\n",
    "# Creating chunks of 200 dimension \n",
    "rct_splitter = RecursiveCharacterTextSplitter(chunk_size = 200, chunk_overlap = 20)\n",
    "chelsea_splitted = rct_splitter.split_documents(chelsea_doc)\n",
    "\n",
    "# Chelsea_splitted now contains the chunks of 200 size\n",
    "# chelsea_splitted[0]\n",
    "\n",
    "from langchain_community.vectorstores import FAISS\n",
    "from langchain_community.embeddings import OllamaEmbeddings\n",
    "\n",
    "ollama_large_embedding_model = OllamaEmbeddings(model=\"mxbai-embed-large\")\n",
    "chelsea_faiss_db = FAISS.from_documents(chelsea_splitted, ollama_large_embedding_model)"
   ]
  },
  {
   "cell_type": "code",
   "execution_count": 14,
   "id": "7a9d18c4",
   "metadata": {},
   "outputs": [],
   "source": [
    "from langchain_community.document_loaders import WikipediaLoader\n",
    "from langchain_text_splitters import RecursiveCharacterTextSplitter\n",
    "from langchain_community.embeddings import OllamaEmbeddings\n",
    "from langchain_community.vectorstores import FAISS, Chroma\n",
    "\n",
    "tesla_docs = WikipediaLoader(query= \"Tesla\", load_max_docs=2).load()\n",
    "rct_splitter = RecursiveCharacterTextSplitter(chunk_size = 200, chunk_overlap = 20)\n",
    "tesla_splitted = rct_splitter.split_documents(tesla_docs)\n",
    "embedding_model = OllamaEmbeddings(model = 'mxbai-embed-large')\n",
    "tesla_db = FAISS.from_documents(tesla_splitted, embedding_model)"
   ]
  },
  {
   "cell_type": "code",
   "execution_count": 13,
   "id": "a904b3a8",
   "metadata": {},
   "outputs": [
    {
     "data": {
      "text/plain": [
       "[Document(metadata={'title': 'Nikola Tesla', 'source': 'https://en.wikipedia.org/wiki/Nikola_Tesla', 'summary': 'Nikola Tesla (10 July 1856 – 7 January 1943) was a Serbian-American engineer, futurist, and inventor. He is known for his contributions to the design of the modern alternating current (AC) electricity supply system.\\nBorn and raised in the Austrian Empire, Tesla first studied engineering and physics in the 1870s without receiving a degree. He then gained practical experience in the early 1880s working in telephony and at Continental Edison in the new electric power industry. In 1884, he immigrated to the United States, where he became a naturalized citizen. He worked for a short time at the Edison Machine Works in New York City before he struck out on his own. With the help of partners to finance and market his ideas, Tesla set up laboratories and companies in New York to develop a range of electrical and mechanical devices. His AC induction motor and related polyphase AC patents, licensed by Westinghouse Electric in 1888, earned him a considerable amount of money and became the cornerstone of the polyphase system, which that company eventually marketed.\\nAttempting to develop inventions he could patent and market, Tesla conducted a range of experiments with mechanical oscillators/generators, electrical discharge tubes, and early X-ray imaging. He also built a wirelessly controlled boat, one of the first ever exhibited. Tesla became well known as an inventor and demonstrated his achievements to celebrities and wealthy patrons at his lab, and was noted for his showmanship at public lectures. Throughout the 1890s, Tesla pursued his ideas for wireless lighting and worldwide wireless electric power distribution in his high-voltage, high-frequency power experiments in New York and Colorado Springs. In 1893, he made pronouncements on the possibility of wireless communication with his devices. Tesla tried to put these ideas to practical use in his unfinished Wardenclyffe Tower project, an intercontinental wireless communication and power transmitter, but ran out of funding before he could complete it.\\nAfter Wardenclyffe, Tesla experimented with a series of inventions in the 1910s and 1920s with varying degrees of success. Having spent most of his money, Tesla lived in a series of New York hotels, leaving behind unpaid bills. He died in New York City in January 1943. Tesla\\'s work fell into relative obscurity following his death, until 1960, when the General Conference on Weights and Measures named the International System of Units (SI) measurement of magnetic flux density the tesla in his honor. There has been a resurgence in popular interest in Tesla since the 1990s. Time magazine included Tesla in their \"100 Most Significant Figures in History\" list.'}, page_content='Nikola Tesla was born into an ethnic Serb family in the village of Smiljan, within the Military Frontier, in the Austrian Empire (present-day Croatia), on 10 July 1856. His father, Milutin Tesla'),\n",
       " Document(metadata={'source': 'https://en.wikipedia.org/wiki/Nikola_Tesla', 'summary': 'Nikola Tesla (10 July 1856 – 7 January 1943) was a Serbian-American engineer, futurist, and inventor. He is known for his contributions to the design of the modern alternating current (AC) electricity supply system.\\nBorn and raised in the Austrian Empire, Tesla first studied engineering and physics in the 1870s without receiving a degree. He then gained practical experience in the early 1880s working in telephony and at Continental Edison in the new electric power industry. In 1884, he immigrated to the United States, where he became a naturalized citizen. He worked for a short time at the Edison Machine Works in New York City before he struck out on his own. With the help of partners to finance and market his ideas, Tesla set up laboratories and companies in New York to develop a range of electrical and mechanical devices. His AC induction motor and related polyphase AC patents, licensed by Westinghouse Electric in 1888, earned him a considerable amount of money and became the cornerstone of the polyphase system, which that company eventually marketed.\\nAttempting to develop inventions he could patent and market, Tesla conducted a range of experiments with mechanical oscillators/generators, electrical discharge tubes, and early X-ray imaging. He also built a wirelessly controlled boat, one of the first ever exhibited. Tesla became well known as an inventor and demonstrated his achievements to celebrities and wealthy patrons at his lab, and was noted for his showmanship at public lectures. Throughout the 1890s, Tesla pursued his ideas for wireless lighting and worldwide wireless electric power distribution in his high-voltage, high-frequency power experiments in New York and Colorado Springs. In 1893, he made pronouncements on the possibility of wireless communication with his devices. Tesla tried to put these ideas to practical use in his unfinished Wardenclyffe Tower project, an intercontinental wireless communication and power transmitter, but ran out of funding before he could complete it.\\nAfter Wardenclyffe, Tesla experimented with a series of inventions in the 1910s and 1920s with varying degrees of success. Having spent most of his money, Tesla lived in a series of New York hotels, leaving behind unpaid bills. He died in New York City in January 1943. Tesla\\'s work fell into relative obscurity following his death, until 1960, when the General Conference on Weights and Measures named the International System of Units (SI) measurement of magnetic flux density the tesla in his honor. There has been a resurgence in popular interest in Tesla since the 1990s. Time magazine included Tesla in their \"100 Most Significant Figures in History\" list.', 'title': 'Nikola Tesla'}, page_content='Tesla was the fourth of five children. In 1861, Tesla attended primary school in Smiljan where he studied German, arithmetic, and religion. In 1862, the Tesla family moved to the nearby town of'),\n",
       " Document(metadata={'title': 'Nikola Tesla', 'summary': 'Nikola Tesla (10 July 1856 – 7 January 1943) was a Serbian-American engineer, futurist, and inventor. He is known for his contributions to the design of the modern alternating current (AC) electricity supply system.\\nBorn and raised in the Austrian Empire, Tesla first studied engineering and physics in the 1870s without receiving a degree. He then gained practical experience in the early 1880s working in telephony and at Continental Edison in the new electric power industry. In 1884, he immigrated to the United States, where he became a naturalized citizen. He worked for a short time at the Edison Machine Works in New York City before he struck out on his own. With the help of partners to finance and market his ideas, Tesla set up laboratories and companies in New York to develop a range of electrical and mechanical devices. His AC induction motor and related polyphase AC patents, licensed by Westinghouse Electric in 1888, earned him a considerable amount of money and became the cornerstone of the polyphase system, which that company eventually marketed.\\nAttempting to develop inventions he could patent and market, Tesla conducted a range of experiments with mechanical oscillators/generators, electrical discharge tubes, and early X-ray imaging. He also built a wirelessly controlled boat, one of the first ever exhibited. Tesla became well known as an inventor and demonstrated his achievements to celebrities and wealthy patrons at his lab, and was noted for his showmanship at public lectures. Throughout the 1890s, Tesla pursued his ideas for wireless lighting and worldwide wireless electric power distribution in his high-voltage, high-frequency power experiments in New York and Colorado Springs. In 1893, he made pronouncements on the possibility of wireless communication with his devices. Tesla tried to put these ideas to practical use in his unfinished Wardenclyffe Tower project, an intercontinental wireless communication and power transmitter, but ran out of funding before he could complete it.\\nAfter Wardenclyffe, Tesla experimented with a series of inventions in the 1910s and 1920s with varying degrees of success. Having spent most of his money, Tesla lived in a series of New York hotels, leaving behind unpaid bills. He died in New York City in January 1943. Tesla\\'s work fell into relative obscurity following his death, until 1960, when the General Conference on Weights and Measures named the International System of Units (SI) measurement of magnetic flux density the tesla in his honor. There has been a resurgence in popular interest in Tesla since the 1990s. Time magazine included Tesla in their \"100 Most Significant Figures in History\" list.', 'source': 'https://en.wikipedia.org/wiki/Nikola_Tesla'}, page_content='Born and raised in the Austrian Empire, Tesla first studied engineering and physics in the 1870s without receiving a degree. He then gained practical experience in the early 1880s working in'),\n",
       " Document(metadata={'source': 'https://en.wikipedia.org/wiki/Nikola_Tesla', 'title': 'Nikola Tesla', 'summary': 'Nikola Tesla (10 July 1856 – 7 January 1943) was a Serbian-American engineer, futurist, and inventor. He is known for his contributions to the design of the modern alternating current (AC) electricity supply system.\\nBorn and raised in the Austrian Empire, Tesla first studied engineering and physics in the 1870s without receiving a degree. He then gained practical experience in the early 1880s working in telephony and at Continental Edison in the new electric power industry. In 1884, he immigrated to the United States, where he became a naturalized citizen. He worked for a short time at the Edison Machine Works in New York City before he struck out on his own. With the help of partners to finance and market his ideas, Tesla set up laboratories and companies in New York to develop a range of electrical and mechanical devices. His AC induction motor and related polyphase AC patents, licensed by Westinghouse Electric in 1888, earned him a considerable amount of money and became the cornerstone of the polyphase system, which that company eventually marketed.\\nAttempting to develop inventions he could patent and market, Tesla conducted a range of experiments with mechanical oscillators/generators, electrical discharge tubes, and early X-ray imaging. He also built a wirelessly controlled boat, one of the first ever exhibited. Tesla became well known as an inventor and demonstrated his achievements to celebrities and wealthy patrons at his lab, and was noted for his showmanship at public lectures. Throughout the 1890s, Tesla pursued his ideas for wireless lighting and worldwide wireless electric power distribution in his high-voltage, high-frequency power experiments in New York and Colorado Springs. In 1893, he made pronouncements on the possibility of wireless communication with his devices. Tesla tried to put these ideas to practical use in his unfinished Wardenclyffe Tower project, an intercontinental wireless communication and power transmitter, but ran out of funding before he could complete it.\\nAfter Wardenclyffe, Tesla experimented with a series of inventions in the 1910s and 1920s with varying degrees of success. Having spent most of his money, Tesla lived in a series of New York hotels, leaving behind unpaid bills. He died in New York City in January 1943. Tesla\\'s work fell into relative obscurity following his death, until 1960, when the General Conference on Weights and Measures named the International System of Units (SI) measurement of magnetic flux density the tesla in his honor. There has been a resurgence in popular interest in Tesla since the 1990s. Time magazine included Tesla in their \"100 Most Significant Figures in History\" list.'}, page_content='Tesla\\'s mother, Georgina \"Đuka\" Mandić (1822–1892), whose father was also an Eastern Orthodox priest, had a talent for making home craft tools and mechanical appliances and the ability to memorize')]"
      ]
     },
     "execution_count": 13,
     "metadata": {},
     "output_type": "execute_result"
    }
   ],
   "source": [
    "tesla_db.similarity_search('when was tesla born')"
   ]
  },
  {
   "cell_type": "markdown",
   "id": "7f3fba9b",
   "metadata": {},
   "source": [
    "### Loading And Saving the vectordatabases "
   ]
  },
  {
   "cell_type": "code",
   "execution_count": 16,
   "id": "dc14c28b",
   "metadata": {},
   "outputs": [
    {
     "data": {
      "text/plain": [
       "[Document(id='b5056887-baef-4a66-8cc9-fd2813d26e0b', metadata={'title': 'Tesla, Inc.', 'summary': 'Tesla, Inc. ( TEZ-lə or   TESS-lə) is an American multinational automotive and clean energy company. Headquartered in Austin, Texas, it designs, manufactures and sells battery electric vehicles (BEVs), stationary battery energy storage devices from home to grid-scale, solar panels and solar shingles, and related products and services.\\nTesla was incorporated in July 2003 by Martin Eberhard and Marc Tarpenning as Tesla Motors. Its name is a tribute to inventor and electrical engineer Nikola Tesla. In February 2004, Elon Musk led Tesla\\'s first funding round and became the company\\'s chairman; in 2008, he was named chief executive officer. In 2008, the company began production of its first car model, the Roadster sports car, followed by the Model S sedan in 2012, the Model X SUV in 2015, the Model 3 sedan in 2017, the Model Y crossover in 2020, the Tesla Semi truck in 2022 and the Cybertruck pickup truck in 2023.\\nTesla is one of the world\\'s most valuable companies in terms of market capitalization. Starting in July 2020, it has been the world\\'s most valuable automaker. From October 2021 to March 2022, Tesla was a trillion-dollar company, the seventh U.S. company to reach that valuation. Tesla exceeded $1 trillion in market capitalization again between November 2024 and February 2025. In 2024, the company led the battery electric vehicle market, with 17.6% share. In 2023, the company was ranked 69th in the Forbes Global 2000.\\nTesla has been the subject of lawsuits, boycotts, government scrutiny, and journalistic criticism, stemming from allegations of multiple cases of whistleblower retaliation, worker rights violations such as sexual harassment and anti-union activities, safety defects leading to dozens of recalls, the lack of a public relations department, and controversial statements from Musk including overpromising on the company\\'s driving assist technology and product release timelines. In 2025,  opponents of Musk have launched the \"Tesla Takedown\" campaign in response to the views of Musk and his role in the second Trump presidency.', 'source': 'https://en.wikipedia.org/wiki/Tesla,_Inc.'}, page_content='Tesla was incorporated in July 2003 by Martin Eberhard and Marc Tarpenning as Tesla Motors. Its name is a tribute to inventor and electrical engineer Nikola Tesla. In February 2004, Elon Musk led'),\n",
       " Document(id='9301096a-0b33-43be-a26c-fccb7b397d6d', metadata={'title': 'Nikola Tesla', 'summary': 'Nikola Tesla (10 July 1856 – 7 January 1943) was a Serbian-American engineer, futurist, and inventor. He is known for his contributions to the design of the modern alternating current (AC) electricity supply system.\\nBorn and raised in the Austrian Empire, Tesla first studied engineering and physics in the 1870s without receiving a degree. He then gained practical experience in the early 1880s working in telephony and at Continental Edison in the new electric power industry. In 1884, he immigrated to the United States, where he became a naturalized citizen. He worked for a short time at the Edison Machine Works in New York City before he struck out on his own. With the help of partners to finance and market his ideas, Tesla set up laboratories and companies in New York to develop a range of electrical and mechanical devices. His AC induction motor and related polyphase AC patents, licensed by Westinghouse Electric in 1888, earned him a considerable amount of money and became the cornerstone of the polyphase system, which that company eventually marketed.\\nAttempting to develop inventions he could patent and market, Tesla conducted a range of experiments with mechanical oscillators/generators, electrical discharge tubes, and early X-ray imaging. He also built a wirelessly controlled boat, one of the first ever exhibited. Tesla became well known as an inventor and demonstrated his achievements to celebrities and wealthy patrons at his lab, and was noted for his showmanship at public lectures. Throughout the 1890s, Tesla pursued his ideas for wireless lighting and worldwide wireless electric power distribution in his high-voltage, high-frequency power experiments in New York and Colorado Springs. In 1893, he made pronouncements on the possibility of wireless communication with his devices. Tesla tried to put these ideas to practical use in his unfinished Wardenclyffe Tower project, an intercontinental wireless communication and power transmitter, but ran out of funding before he could complete it.\\nAfter Wardenclyffe, Tesla experimented with a series of inventions in the 1910s and 1920s with varying degrees of success. Having spent most of his money, Tesla lived in a series of New York hotels, leaving behind unpaid bills. He died in New York City in January 1943. Tesla\\'s work fell into relative obscurity following his death, until 1960, when the General Conference on Weights and Measures named the International System of Units (SI) measurement of magnetic flux density the tesla in his honor. There has been a resurgence in popular interest in Tesla since the 1990s. Time magazine included Tesla in their \"100 Most Significant Figures in History\" list.', 'source': 'https://en.wikipedia.org/wiki/Nikola_Tesla'}, page_content='Nikola Tesla (10 July 1856 – 7 January 1943) was a Serbian-American engineer, futurist, and inventor. He is known for his contributions to the design of the modern alternating current (AC) electricity'),\n",
       " Document(id='1d626925-dbd4-48a7-ae66-4da433f6f145', metadata={'title': 'Nikola Tesla', 'summary': 'Nikola Tesla (10 July 1856 – 7 January 1943) was a Serbian-American engineer, futurist, and inventor. He is known for his contributions to the design of the modern alternating current (AC) electricity supply system.\\nBorn and raised in the Austrian Empire, Tesla first studied engineering and physics in the 1870s without receiving a degree. He then gained practical experience in the early 1880s working in telephony and at Continental Edison in the new electric power industry. In 1884, he immigrated to the United States, where he became a naturalized citizen. He worked for a short time at the Edison Machine Works in New York City before he struck out on his own. With the help of partners to finance and market his ideas, Tesla set up laboratories and companies in New York to develop a range of electrical and mechanical devices. His AC induction motor and related polyphase AC patents, licensed by Westinghouse Electric in 1888, earned him a considerable amount of money and became the cornerstone of the polyphase system, which that company eventually marketed.\\nAttempting to develop inventions he could patent and market, Tesla conducted a range of experiments with mechanical oscillators/generators, electrical discharge tubes, and early X-ray imaging. He also built a wirelessly controlled boat, one of the first ever exhibited. Tesla became well known as an inventor and demonstrated his achievements to celebrities and wealthy patrons at his lab, and was noted for his showmanship at public lectures. Throughout the 1890s, Tesla pursued his ideas for wireless lighting and worldwide wireless electric power distribution in his high-voltage, high-frequency power experiments in New York and Colorado Springs. In 1893, he made pronouncements on the possibility of wireless communication with his devices. Tesla tried to put these ideas to practical use in his unfinished Wardenclyffe Tower project, an intercontinental wireless communication and power transmitter, but ran out of funding before he could complete it.\\nAfter Wardenclyffe, Tesla experimented with a series of inventions in the 1910s and 1920s with varying degrees of success. Having spent most of his money, Tesla lived in a series of New York hotels, leaving behind unpaid bills. He died in New York City in January 1943. Tesla\\'s work fell into relative obscurity following his death, until 1960, when the General Conference on Weights and Measures named the International System of Units (SI) measurement of magnetic flux density the tesla in his honor. There has been a resurgence in popular interest in Tesla since the 1990s. Time magazine included Tesla in their \"100 Most Significant Figures in History\" list.', 'source': 'https://en.wikipedia.org/wiki/Nikola_Tesla'}, page_content='interest in Tesla since the 1990s. Time magazine included Tesla in their \"100 Most Significant Figures in History\" list.'),\n",
       " Document(id='73dc9b8a-c1e0-4312-8eb1-22f4ce521f86', metadata={'title': 'Nikola Tesla', 'summary': 'Nikola Tesla (10 July 1856 – 7 January 1943) was a Serbian-American engineer, futurist, and inventor. He is known for his contributions to the design of the modern alternating current (AC) electricity supply system.\\nBorn and raised in the Austrian Empire, Tesla first studied engineering and physics in the 1870s without receiving a degree. He then gained practical experience in the early 1880s working in telephony and at Continental Edison in the new electric power industry. In 1884, he immigrated to the United States, where he became a naturalized citizen. He worked for a short time at the Edison Machine Works in New York City before he struck out on his own. With the help of partners to finance and market his ideas, Tesla set up laboratories and companies in New York to develop a range of electrical and mechanical devices. His AC induction motor and related polyphase AC patents, licensed by Westinghouse Electric in 1888, earned him a considerable amount of money and became the cornerstone of the polyphase system, which that company eventually marketed.\\nAttempting to develop inventions he could patent and market, Tesla conducted a range of experiments with mechanical oscillators/generators, electrical discharge tubes, and early X-ray imaging. He also built a wirelessly controlled boat, one of the first ever exhibited. Tesla became well known as an inventor and demonstrated his achievements to celebrities and wealthy patrons at his lab, and was noted for his showmanship at public lectures. Throughout the 1890s, Tesla pursued his ideas for wireless lighting and worldwide wireless electric power distribution in his high-voltage, high-frequency power experiments in New York and Colorado Springs. In 1893, he made pronouncements on the possibility of wireless communication with his devices. Tesla tried to put these ideas to practical use in his unfinished Wardenclyffe Tower project, an intercontinental wireless communication and power transmitter, but ran out of funding before he could complete it.\\nAfter Wardenclyffe, Tesla experimented with a series of inventions in the 1910s and 1920s with varying degrees of success. Having spent most of his money, Tesla lived in a series of New York hotels, leaving behind unpaid bills. He died in New York City in January 1943. Tesla\\'s work fell into relative obscurity following his death, until 1960, when the General Conference on Weights and Measures named the International System of Units (SI) measurement of magnetic flux density the tesla in his honor. There has been a resurgence in popular interest in Tesla since the 1990s. Time magazine included Tesla in their \"100 Most Significant Figures in History\" list.', 'source': 'https://en.wikipedia.org/wiki/Nikola_Tesla'}, page_content=\"Milutin Tesla (1819–1879), was a priest of the Eastern Orthodox Church. His father's brother Josif was a lecturer at a military academy who wrote several textbooks on mathematics.\")]"
      ]
     },
     "execution_count": 16,
     "metadata": {},
     "output_type": "execute_result"
    }
   ],
   "source": [
    "tesla_retriever = tesla_db.as_retriever()\n",
    "query_op = tesla_retriever.invoke(\"Who is Tesla\")\n",
    "query_op"
   ]
  },
  {
   "cell_type": "code",
   "execution_count": 17,
   "id": "43a7be52",
   "metadata": {},
   "outputs": [
    {
     "data": {
      "text/plain": [
       "[(Document(id='1fd39eca-16bc-4a3b-b8ef-1686b0b214ee', metadata={'title': 'Nikola Tesla', 'summary': 'Nikola Tesla (10 July 1856 – 7 January 1943) was a Serbian-American engineer, futurist, and inventor. He is known for his contributions to the design of the modern alternating current (AC) electricity supply system.\\nBorn and raised in the Austrian Empire, Tesla first studied engineering and physics in the 1870s without receiving a degree. He then gained practical experience in the early 1880s working in telephony and at Continental Edison in the new electric power industry. In 1884, he immigrated to the United States, where he became a naturalized citizen. He worked for a short time at the Edison Machine Works in New York City before he struck out on his own. With the help of partners to finance and market his ideas, Tesla set up laboratories and companies in New York to develop a range of electrical and mechanical devices. His AC induction motor and related polyphase AC patents, licensed by Westinghouse Electric in 1888, earned him a considerable amount of money and became the cornerstone of the polyphase system, which that company eventually marketed.\\nAttempting to develop inventions he could patent and market, Tesla conducted a range of experiments with mechanical oscillators/generators, electrical discharge tubes, and early X-ray imaging. He also built a wirelessly controlled boat, one of the first ever exhibited. Tesla became well known as an inventor and demonstrated his achievements to celebrities and wealthy patrons at his lab, and was noted for his showmanship at public lectures. Throughout the 1890s, Tesla pursued his ideas for wireless lighting and worldwide wireless electric power distribution in his high-voltage, high-frequency power experiments in New York and Colorado Springs. In 1893, he made pronouncements on the possibility of wireless communication with his devices. Tesla tried to put these ideas to practical use in his unfinished Wardenclyffe Tower project, an intercontinental wireless communication and power transmitter, but ran out of funding before he could complete it.\\nAfter Wardenclyffe, Tesla experimented with a series of inventions in the 1910s and 1920s with varying degrees of success. Having spent most of his money, Tesla lived in a series of New York hotels, leaving behind unpaid bills. He died in New York City in January 1943. Tesla\\'s work fell into relative obscurity following his death, until 1960, when the General Conference on Weights and Measures named the International System of Units (SI) measurement of magnetic flux density the tesla in his honor. There has been a resurgence in popular interest in Tesla since the 1990s. Time magazine included Tesla in their \"100 Most Significant Figures in History\" list.', 'source': 'https://en.wikipedia.org/wiki/Nikola_Tesla'}, page_content='Nikola Tesla was born into an ethnic Serb family in the village of Smiljan, within the Military Frontier, in the Austrian Empire (present-day Croatia), on 10 July 1856. His father, Milutin Tesla'),\n",
       "  144.6514),\n",
       " (Document(id='4a39cca1-113c-4704-8268-0a2a6ad94268', metadata={'title': 'Nikola Tesla', 'summary': 'Nikola Tesla (10 July 1856 – 7 January 1943) was a Serbian-American engineer, futurist, and inventor. He is known for his contributions to the design of the modern alternating current (AC) electricity supply system.\\nBorn and raised in the Austrian Empire, Tesla first studied engineering and physics in the 1870s without receiving a degree. He then gained practical experience in the early 1880s working in telephony and at Continental Edison in the new electric power industry. In 1884, he immigrated to the United States, where he became a naturalized citizen. He worked for a short time at the Edison Machine Works in New York City before he struck out on his own. With the help of partners to finance and market his ideas, Tesla set up laboratories and companies in New York to develop a range of electrical and mechanical devices. His AC induction motor and related polyphase AC patents, licensed by Westinghouse Electric in 1888, earned him a considerable amount of money and became the cornerstone of the polyphase system, which that company eventually marketed.\\nAttempting to develop inventions he could patent and market, Tesla conducted a range of experiments with mechanical oscillators/generators, electrical discharge tubes, and early X-ray imaging. He also built a wirelessly controlled boat, one of the first ever exhibited. Tesla became well known as an inventor and demonstrated his achievements to celebrities and wealthy patrons at his lab, and was noted for his showmanship at public lectures. Throughout the 1890s, Tesla pursued his ideas for wireless lighting and worldwide wireless electric power distribution in his high-voltage, high-frequency power experiments in New York and Colorado Springs. In 1893, he made pronouncements on the possibility of wireless communication with his devices. Tesla tried to put these ideas to practical use in his unfinished Wardenclyffe Tower project, an intercontinental wireless communication and power transmitter, but ran out of funding before he could complete it.\\nAfter Wardenclyffe, Tesla experimented with a series of inventions in the 1910s and 1920s with varying degrees of success. Having spent most of his money, Tesla lived in a series of New York hotels, leaving behind unpaid bills. He died in New York City in January 1943. Tesla\\'s work fell into relative obscurity following his death, until 1960, when the General Conference on Weights and Measures named the International System of Units (SI) measurement of magnetic flux density the tesla in his honor. There has been a resurgence in popular interest in Tesla since the 1990s. Time magazine included Tesla in their \"100 Most Significant Figures in History\" list.', 'source': 'https://en.wikipedia.org/wiki/Nikola_Tesla'}, page_content='Tesla was the fourth of five children. In 1861, Tesla attended primary school in Smiljan where he studied German, arithmetic, and religion. In 1862, the Tesla family moved to the nearby town of'),\n",
       "  155.44598),\n",
       " (Document(id='29aea4cd-bbf7-43ac-8cd1-2913821ebe36', metadata={'title': 'Nikola Tesla', 'summary': 'Nikola Tesla (10 July 1856 – 7 January 1943) was a Serbian-American engineer, futurist, and inventor. He is known for his contributions to the design of the modern alternating current (AC) electricity supply system.\\nBorn and raised in the Austrian Empire, Tesla first studied engineering and physics in the 1870s without receiving a degree. He then gained practical experience in the early 1880s working in telephony and at Continental Edison in the new electric power industry. In 1884, he immigrated to the United States, where he became a naturalized citizen. He worked for a short time at the Edison Machine Works in New York City before he struck out on his own. With the help of partners to finance and market his ideas, Tesla set up laboratories and companies in New York to develop a range of electrical and mechanical devices. His AC induction motor and related polyphase AC patents, licensed by Westinghouse Electric in 1888, earned him a considerable amount of money and became the cornerstone of the polyphase system, which that company eventually marketed.\\nAttempting to develop inventions he could patent and market, Tesla conducted a range of experiments with mechanical oscillators/generators, electrical discharge tubes, and early X-ray imaging. He also built a wirelessly controlled boat, one of the first ever exhibited. Tesla became well known as an inventor and demonstrated his achievements to celebrities and wealthy patrons at his lab, and was noted for his showmanship at public lectures. Throughout the 1890s, Tesla pursued his ideas for wireless lighting and worldwide wireless electric power distribution in his high-voltage, high-frequency power experiments in New York and Colorado Springs. In 1893, he made pronouncements on the possibility of wireless communication with his devices. Tesla tried to put these ideas to practical use in his unfinished Wardenclyffe Tower project, an intercontinental wireless communication and power transmitter, but ran out of funding before he could complete it.\\nAfter Wardenclyffe, Tesla experimented with a series of inventions in the 1910s and 1920s with varying degrees of success. Having spent most of his money, Tesla lived in a series of New York hotels, leaving behind unpaid bills. He died in New York City in January 1943. Tesla\\'s work fell into relative obscurity following his death, until 1960, when the General Conference on Weights and Measures named the International System of Units (SI) measurement of magnetic flux density the tesla in his honor. There has been a resurgence in popular interest in Tesla since the 1990s. Time magazine included Tesla in their \"100 Most Significant Figures in History\" list.', 'source': 'https://en.wikipedia.org/wiki/Nikola_Tesla'}, page_content='obtained American citizenship, Tesla would identify himself as \"of Smiljan, Lika, border country of Austria-Hungary\".'),\n",
       "  157.97809),\n",
       " (Document(id='719fe602-3ca1-400b-afc3-bffe256a8cc7', metadata={'title': 'Nikola Tesla', 'summary': 'Nikola Tesla (10 July 1856 – 7 January 1943) was a Serbian-American engineer, futurist, and inventor. He is known for his contributions to the design of the modern alternating current (AC) electricity supply system.\\nBorn and raised in the Austrian Empire, Tesla first studied engineering and physics in the 1870s without receiving a degree. He then gained practical experience in the early 1880s working in telephony and at Continental Edison in the new electric power industry. In 1884, he immigrated to the United States, where he became a naturalized citizen. He worked for a short time at the Edison Machine Works in New York City before he struck out on his own. With the help of partners to finance and market his ideas, Tesla set up laboratories and companies in New York to develop a range of electrical and mechanical devices. His AC induction motor and related polyphase AC patents, licensed by Westinghouse Electric in 1888, earned him a considerable amount of money and became the cornerstone of the polyphase system, which that company eventually marketed.\\nAttempting to develop inventions he could patent and market, Tesla conducted a range of experiments with mechanical oscillators/generators, electrical discharge tubes, and early X-ray imaging. He also built a wirelessly controlled boat, one of the first ever exhibited. Tesla became well known as an inventor and demonstrated his achievements to celebrities and wealthy patrons at his lab, and was noted for his showmanship at public lectures. Throughout the 1890s, Tesla pursued his ideas for wireless lighting and worldwide wireless electric power distribution in his high-voltage, high-frequency power experiments in New York and Colorado Springs. In 1893, he made pronouncements on the possibility of wireless communication with his devices. Tesla tried to put these ideas to practical use in his unfinished Wardenclyffe Tower project, an intercontinental wireless communication and power transmitter, but ran out of funding before he could complete it.\\nAfter Wardenclyffe, Tesla experimented with a series of inventions in the 1910s and 1920s with varying degrees of success. Having spent most of his money, Tesla lived in a series of New York hotels, leaving behind unpaid bills. He died in New York City in January 1943. Tesla\\'s work fell into relative obscurity following his death, until 1960, when the General Conference on Weights and Measures named the International System of Units (SI) measurement of magnetic flux density the tesla in his honor. There has been a resurgence in popular interest in Tesla since the 1990s. Time magazine included Tesla in their \"100 Most Significant Figures in History\" list.', 'source': 'https://en.wikipedia.org/wiki/Nikola_Tesla'}, page_content=\"the nearby town of Gospić, where Tesla's father worked as parish priest. Nikola completed primary school, followed by middle school. Later in his patent applications, before he obtained American\"),\n",
       "  163.64442)]"
      ]
     },
     "execution_count": 17,
     "metadata": {},
     "output_type": "execute_result"
    }
   ],
   "source": [
    "tesla_db.similarity_search_with_score('Where was Tesla born?')"
   ]
  },
  {
   "cell_type": "code",
   "execution_count": 18,
   "id": "6f08744f",
   "metadata": {},
   "outputs": [
    {
     "data": {
      "text/plain": [
       "'f:\\\\LangChain'"
      ]
     },
     "execution_count": 18,
     "metadata": {},
     "output_type": "execute_result"
    }
   ],
   "source": [
    "pwd"
   ]
  },
  {
   "cell_type": "code",
   "execution_count": 19,
   "id": "9133857b",
   "metadata": {},
   "outputs": [],
   "source": [
    "tesla_db.save_local(\"VectorStore/tesla_faiss_index\")"
   ]
  },
  {
   "cell_type": "code",
   "execution_count": 21,
   "id": "e9f3d70e",
   "metadata": {},
   "outputs": [],
   "source": [
    "# allow_dangerous_deserialization : Trust this file!!\n",
    "new_db = FAISS.load_local(\"VectorStore/tesla_faiss_index\",embedding_model, allow_dangerous_deserialization=True)"
   ]
  },
  {
   "cell_type": "code",
   "execution_count": 24,
   "id": "46fbf7f6",
   "metadata": {},
   "outputs": [],
   "source": [
    "# from langchain_chroma import Chroma\n",
    "# Chroma.from_documents(chelsea_splitted, embedding_model)"
   ]
  },
  {
   "cell_type": "code",
   "execution_count": null,
   "id": "dae02f33",
   "metadata": {},
   "outputs": [],
   "source": []
  }
 ],
 "metadata": {
  "kernelspec": {
   "display_name": "genai",
   "language": "python",
   "name": "python3"
  },
  "language_info": {
   "codemirror_mode": {
    "name": "ipython",
    "version": 3
   },
   "file_extension": ".py",
   "mimetype": "text/x-python",
   "name": "python",
   "nbconvert_exporter": "python",
   "pygments_lexer": "ipython3",
   "version": "3.12.11"
  }
 },
 "nbformat": 4,
 "nbformat_minor": 5
}
